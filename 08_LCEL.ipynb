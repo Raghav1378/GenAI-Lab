{
 "cells": [
  {
   "cell_type": "code",
   "execution_count": 55,
   "id": "97bd5bfd",
   "metadata": {},
   "outputs": [],
   "source": [
    "from dotenv import load_dotenv\n",
    "load_dotenv()\n",
    "from langchain_core.prompts  import ChatPromptTemplate\n",
    "from langchain_core.output_parsers import StrOutputParser\n",
    "from langchain_google_genai import ChatGoogleGenerativeAI\n",
    "chatmodel=ChatGoogleGenerativeAI(model=\"gemini-2.5-flash\")"
   ]
  },
  {
   "cell_type": "code",
   "execution_count": 80,
   "id": "ed07dd73",
   "metadata": {},
   "outputs": [],
   "source": [
    "import os\n",
    "from openai import OpenAI\n",
    "from langchain_core.runnables import Runnable\n",
    "\n",
    "# Initialize Hugging Face router client\n",
    "client = OpenAI(\n",
    "    base_url=\"https://router.huggingface.co/v1\",\n",
    "    api_key=os.environ[\"HF_TOKEN\"],\n",
    ")\n",
    "\n",
    "class HuggingFaceChatModel(Runnable):\n",
    "    \"\"\"LangChain-compatible Hugging Face ChatModel using OpenAI-compatible API.\"\"\"\n",
    "\n",
    "    def __init__(self, model_name=\"openai/gpt-oss-safeguard-20b:groq\"):\n",
    "        self.model_name = model_name\n",
    "\n",
    "    def invoke(self, inputs, config=None, **kwargs):\n",
    "        \"\"\"Run a single prompt through the model.\"\"\"\n",
    "        if isinstance(inputs, dict):\n",
    "            prompt = inputs.get(\"input\") or inputs.get(\"prompt\")\n",
    "        else:\n",
    "            prompt = str(inputs)\n",
    "\n",
    "        if not prompt or not prompt.strip():\n",
    "            raise ValueError(\"Prompt text is empty or invalid.\")\n",
    "\n",
    "        try:\n",
    "            completion = client.chat.completions.create(\n",
    "                model=self.model_name,\n",
    "                messages=[{\"role\": \"user\", \"content\": prompt}],\n",
    "            )\n",
    "            return completion.choices[0].message.content\n",
    "        except Exception as e:\n",
    "            return f\"Error: {e}\"\n"
   ]
  },
  {
   "cell_type": "code",
   "execution_count": 81,
   "id": "404e137d",
   "metadata": {},
   "outputs": [],
   "source": [
    "chatmodel2=HuggingFaceChatModel()"
   ]
  },
  {
   "cell_type": "code",
   "execution_count": 86,
   "id": "942d90ed",
   "metadata": {},
   "outputs": [],
   "source": [
    "prompt=ChatPromptTemplate.from_template(\"tell me a curious fact about {player}\")\n",
    "\n",
    "output_parser=StrOutputParser()"
   ]
  },
  {
   "cell_type": "code",
   "execution_count": 87,
   "id": "4897e0dd",
   "metadata": {},
   "outputs": [
    {
     "data": {
      "text/plain": [
       "\"Here's a curious fact about **Cristiano \""
      ]
     },
     "execution_count": 87,
     "metadata": {},
     "output_type": "execute_result"
    }
   ],
   "source": [
    "chain =  prompt | chatmodel.bind(stop={\"Ronaldo\"}) |  output_parser\n",
    "chain.invoke({\"player\":\"Ronaldo\"})"
   ]
  },
  {
   "cell_type": "markdown",
   "id": "5f191050",
   "metadata": {},
   "source": [
    "# Combining Lcel chains"
   ]
  },
  {
   "cell_type": "code",
   "execution_count": 88,
   "id": "be4e01f8",
   "metadata": {},
   "outputs": [
    {
     "data": {
      "text/plain": [
       "'Narendra Modi is the current Prime Minister of India.'"
      ]
     },
     "execution_count": 88,
     "metadata": {},
     "output_type": "execute_result"
    }
   ],
   "source": [
    "prompt=ChatPromptTemplate.from_template(\"tell me a senetence about {politician}\")\n",
    "chain2=prompt | chatmodel | output_parser\n",
    "\n",
    "chain2.invoke({\"politician\":\"Narendra Modi\"})"
   ]
  },
  {
   "cell_type": "markdown",
   "id": "432a9a81",
   "metadata": {},
   "source": [
    "# Combining Chain"
   ]
  },
  {
   "cell_type": "code",
   "execution_count": 90,
   "id": "f04e8fd3",
   "metadata": {},
   "outputs": [],
   "source": [
    "historian_prompt=ChatPromptTemplate.from_template(\"Was {politician} positive for humanity\")\n",
    "\n",
    "composed_chain={\"politician\":chain2} | historian_prompt | chatmodel | StrOutputParser()\n",
    "\n",
    "answer=composed_chain.invoke({\"politician\":\"Narendra Modi\"})"
   ]
  },
  {
   "cell_type": "code",
   "execution_count": 91,
   "id": "c36c31f1",
   "metadata": {},
   "outputs": [
    {
     "name": "stdout",
     "output_type": "stream",
     "text": [
      "Yes, Narendra Modi is the current Prime Minister of India, serving in that role since May 26, 2014.\n",
      "\n",
      "Assessing whether his tenure has been \"positive for humanity\" is a complex question that elicits diverse perspectives, both within India and internationally. There isn't a simple \"yes\" or \"no\" answer, as different people weigh various factors differently.\n",
      "\n",
      "Here's a breakdown of arguments often made, both in favor and critically:\n",
      "\n",
      "**Arguments for Positive Impact (from supporters and some analyses):**\n",
      "\n",
      "1.  **Economic Development and Poverty Alleviation:**\n",
      "    *   **Financial Inclusion:** Schemes like Jan Dhan Yojana have brought millions into the formal banking system.\n",
      "    *   **Sanitation:** Swachh Bharat Abhiyan (Clean India Mission) significantly improved sanitation coverage, reducing open defecation.\n",
      "    *   **Access to Utilities:** Ujjwala Yojana provided LPG connections to millions of rural households, reducing reliance on polluting fuels. Saubhagya scheme aimed for universal household electrification.\n",
      "    *   **Infrastructure Development:** Significant investments in roads, railways, airports, and digital infrastructure (Digital India).\n",
      "    *   **Ease of Doing Business:** India's ranking improved significantly on global \"Ease of Doing Business\" indices during parts of his tenure.\n",
      "\n",
      "2.  **Global Standing and Diplomacy:**\n",
      "    *   India's global profile has risen, with active participation in international forums (G20, BRICS, Quad).\n",
      "    *   Strengthened bilateral ties with many countries, including major powers.\n",
      "    *   Increased focus on \"soft power\" and cultural diplomacy.\n",
      "\n",
      "3.  **Governance and Efficiency:**\n",
      "    *   Emphasis on \"minimum government, maximum governance\" and efforts to streamline bureaucracy.\n",
      "    *   Direct Benefit Transfer (DBT) schemes aimed at reducing leakages in welfare programs.\n",
      "\n",
      "4.  **COVID-19 Response (especially vaccination):**\n",
      "    *   India's rapid development and deployment of COVID-19 vaccines (Covishield, Covaxin) and its massive vaccination drive were globally recognized as a significant achievement, contributing to global health security.\n",
      "\n",
      "**Arguments for Negative/Critical Impact (from critics and some analyses):**\n",
      "\n",
      "1.  **Social Cohesion and Human Rights Concerns:**\n",
      "    *   **Minority Rights:** Critics point to a rise in religious polarization, concerns over the treatment of religious minorities (especially Muslims), and laws like the Citizenship Amendment Act (CAA), which has been criticized as discriminatory.\n",
      "    *   **Freedom of Speech and Press:** Concerns have been raised by international organizations regarding shrinking space for dissent, pressure on independent media, and the use of sedition laws.\n",
      "    *   **Kashmir:** The abrogation of Article 370 in Jammu and Kashmir and the subsequent communications blackout and restrictions were widely criticized by human rights groups.\n",
      "\n",
      "2.  **Economic Challenges:**\n",
      "    *   **Demonetization:** The 2016 demonetization policy was widely criticized for its disruptive impact on the informal economy, job losses, and limited success in achieving its stated goals.\n",
      "    *   **Job Creation:** Despite economic growth, concerns about insufficient job creation (especially for youth) persist.\n",
      "    *   **Rising Inequality:** Critics argue that economic policies have exacerbated wealth inequality.\n",
      "    *   **Farmer Protests:** Large-scale farmer protests against agricultural reform laws (later repealed) highlighted significant discontent in the agricultural sector.\n",
      "\n",
      "3.  **Democratic Institutions and Federalism:**\n",
      "    *   **Centralization of Power:** Concerns about the centralization of power within the federal structure and perceived weakening of independent institutions (e.g., Election Commission, judiciary).\n",
      "    *   **Electoral Bonds:** The electoral bond scheme, which allowed anonymous political donations, was criticized for lacking transparency and potentially favoring the ruling party.\n",
      "\n",
      "4.  **Environmental Concerns:**\n",
      "    *   While India has made commitments to renewable energy, critics argue that environmental regulations have been diluted in some areas, and development projects have sometimes come at an ecological cost.\n",
      "\n",
      "**Conclusion:**\n",
      "\n",
      "Ultimately, whether Narendra Modi's tenure is viewed as \"positive for humanity\" depends heavily on which aspects one prioritizes and from which perspective one evaluates. His supporters point to significant developmental strides, poverty alleviation efforts, and a stronger global presence for India. Critics, however, raise serious concerns about social cohesion, democratic norms, human rights, and certain economic policies. The debate is ongoing and deeply polarized, reflecting the complex realities of governing a diverse nation like India.\n"
     ]
    }
   ],
   "source": [
    "print(answer)"
   ]
  },
  {
   "cell_type": "code",
   "execution_count": null,
   "id": "366c4ba2",
   "metadata": {},
   "outputs": [],
   "source": []
  }
 ],
 "metadata": {
  "kernelspec": {
   "display_name": "venv",
   "language": "python",
   "name": "python3"
  },
  "language_info": {
   "codemirror_mode": {
    "name": "ipython",
    "version": 3
   },
   "file_extension": ".py",
   "mimetype": "text/x-python",
   "name": "python",
   "nbconvert_exporter": "python",
   "pygments_lexer": "ipython3",
   "version": "3.9.13"
  }
 },
 "nbformat": 4,
 "nbformat_minor": 5
}

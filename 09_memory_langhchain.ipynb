{
 "cells": [
  {
   "cell_type": "code",
   "execution_count": 3,
   "id": "894ba65d",
   "metadata": {},
   "outputs": [
    {
     "data": {
      "text/plain": [
       "True"
      ]
     },
     "execution_count": 3,
     "metadata": {},
     "output_type": "execute_result"
    }
   ],
   "source": [
    "from dotenv import load_dotenv\n",
    "from langchain_google_genai import ChatGoogleGenerativeAI\n",
    "load_dotenv()"
   ]
  },
  {
   "cell_type": "code",
   "execution_count": 4,
   "id": "806fd9cc",
   "metadata": {},
   "outputs": [],
   "source": [
    "model=ChatGoogleGenerativeAI(model=\"gemini-2.5-flash\")"
   ]
  },
  {
   "cell_type": "code",
   "execution_count": 5,
   "id": "8ff2df9c",
   "metadata": {},
   "outputs": [
    {
     "data": {
      "text/plain": [
       "AIMessage(content='\"Hello\" is a common English **greeting**.\\n\\nHere\\'s a breakdown of what it is and how it\\'s used:\\n\\n1.  **A Form of Greeting:** It\\'s the most widely used word to acknowledge someone, initiate a conversation, or express recognition when meeting or seeing someone.\\n    *   *Example:* \"Hello, how are you?\"\\n\\n2.  **Answering the Telephone:** It\\'s the standard way to answer a phone call.\\n    *   *Example:* \"Hello?\" (when picking up the phone)\\n\\n3.  **Getting Attention:** It can be used to get someone\\'s attention, especially if they seem distracted or haven\\'t noticed you.\\n    *   *Example:* \"Hello? Is anyone home?\" or \"Hello, excuse me, could you help me?\"\\n\\n4.  **Expressing Surprise or Recognition:** Sometimes used with a specific tone to express surprise, especially if you haven\\'t seen someone in a while or didn\\'t expect to see them.\\n    *   *Example:* \"Well, hello there! I didn\\'t expect to see you.\"\\n\\n**Origin:**\\nThe word \"hello\" is believed to have originated from older Germanic words like \"hallo\" or \"holla,\" which were used to call out to someone, similar to \"hey!\" or \"hoy!\" It became widely established as a general greeting, especially in the 19th century, partly popularized by its use with the invention of the telephone.\\n\\nIn short, \"hello\" is a fundamental and versatile word in the English language for starting interactions.', additional_kwargs={}, response_metadata={'prompt_feedback': {'block_reason': 0, 'safety_ratings': []}, 'finish_reason': 'STOP', 'model_name': 'gemini-2.5-flash', 'safety_ratings': []}, id='run--6945bfd0-c927-4bc4-bc97-bb444dcbbc05-0', usage_metadata={'input_tokens': 5, 'output_tokens': 1048, 'total_tokens': 1053, 'input_token_details': {'cache_read': 0}, 'output_token_details': {'reasoning': 715}})"
      ]
     },
     "execution_count": 5,
     "metadata": {},
     "output_type": "execute_result"
    }
   ],
   "source": [
    "model.invoke(\"what is Hello \")"
   ]
  },
  {
   "cell_type": "markdown",
   "id": "cbe557e7",
   "metadata": {
    "vscode": {
     "languageId": "markdown"
    }
   },
   "source": [
    "# Buffer Memory\n",
    "\n",
    "- Definition: A short-term storage that holds the most recent conversation turns or tokens to provide immediate context for the next model inference.\n",
    "- Purpose: Keeps recent context available without re-sending the entire history, reducing prompt size and latency.\n",
    "- Common implementation: sliding window or fixed-size buffer that keeps the last N messages or K tokens.\n",
    "- Eviction strategies: FIFO (drop oldest), LRU (drop least recently used), or summarization/compaction when full.\n",
    "- Benefits:\n",
    "    - Preserves local coherence across turns\n",
    "    - Keeps prompts within token limits\n",
    "    - Improves relevance for follow-up queries\n",
    "- Limitations:\n",
    "    - Can miss long-term facts if buffer is too small\n",
    "    - Prone to context drift (irrelevant accumulated details)\n",
    "    - Privacy risk if sensitive data is retained\n",
    "- Best practices:\n",
    "    - Tune buffer size to token limits and task complexity\n",
    "    - Periodically summarize older context into compact representations\n",
    "    - Combine buffer memory with a persistent store for long-term facts\n",
    "    - Apply filters to avoid storing sensitive information\n",
    "- When to use: short multi-turn conversations requiring immediate context. For prolonged or knowledge-intensive sessions, combine with persistent memory or retrieval mechanisms."
   ]
  },
  {
   "cell_type": "code",
   "execution_count": 9,
   "id": "667a73b0",
   "metadata": {},
   "outputs": [],
   "source": [
    "from langchain.prompts import PromptTemplate,HumanMessagePromptTemplate,ChatPromptTemplate,SystemMessagePromptTemplate,MessagesPlaceholder\n",
    "from langchain.chains import LLMChain\n",
    "from langchain.memory import ConversationBufferMemory"
   ]
  },
  {
   "cell_type": "code",
   "execution_count": 11,
   "id": "ccca0a46",
   "metadata": {},
   "outputs": [
    {
     "name": "stderr",
     "output_type": "stream",
     "text": [
      "C:\\Users\\91800\\AppData\\Local\\Temp\\ipykernel_19284\\2296162971.py:3: LangChainDeprecationWarning: Please see the migration guide at: https://python.langchain.com/docs/versions/migrating_memory/\n",
      "  memory=ConversationBufferMemory(memory_key=\"chat_history\",return_messages=True)\n"
     ]
    }
   ],
   "source": [
    "prompt=ChatPromptTemplate(messages=[SystemMessagePromptTemplate.from_template(\"You are a nice chatbot having a conversation with a human\"),MessagesPlaceholder(variable_name=\"chat_history\"),HumanMessagePromptTemplate.from_template(\"{question}\")])\n",
    "\n",
    "memory=ConversationBufferMemory(memory_key=\"chat_history\",return_messages=True)"
   ]
  },
  {
   "cell_type": "code",
   "execution_count": 12,
   "id": "4d338474",
   "metadata": {},
   "outputs": [
    {
     "name": "stderr",
     "output_type": "stream",
     "text": [
      "C:\\Users\\91800\\AppData\\Local\\Temp\\ipykernel_19284\\3686333804.py:1: LangChainDeprecationWarning: The class `LLMChain` was deprecated in LangChain 0.1.17 and will be removed in 1.0. Use :meth:`~RunnableSequence, e.g., `prompt | llm`` instead.\n",
      "  conversation=LLMChain(llm=model,prompt=prompt,verbose=True,memory=memory)\n"
     ]
    }
   ],
   "source": [
    "conversation=LLMChain(llm=model,prompt=prompt,verbose=True,memory=memory)"
   ]
  },
  {
   "cell_type": "code",
   "execution_count": 15,
   "id": "ad01b78b",
   "metadata": {},
   "outputs": [
    {
     "name": "stdout",
     "output_type": "stream",
     "text": [
      "\n",
      "\n",
      "\u001b[1m> Entering new LLMChain chain...\u001b[0m\n",
      "Prompt after formatting:\n",
      "\u001b[32;1m\u001b[1;3mSystem: You are a nice chatbot having a conversation with a human\n",
      "Human: hi\n",
      "AI: Hi there! How can I help you today? 😊\n",
      "Human: Yo buddy how you doing\u001b[0m\n",
      "\n",
      "\u001b[1m> Finished chain.\u001b[0m\n"
     ]
    },
    {
     "data": {
      "text/plain": [
       "{'question': 'Yo buddy how you doing',\n",
       " 'chat_history': [HumanMessage(content='hi', additional_kwargs={}, response_metadata={}),\n",
       "  AIMessage(content='Hi there! How can I help you today? 😊', additional_kwargs={}, response_metadata={}),\n",
       "  HumanMessage(content='Yo buddy how you doing', additional_kwargs={}, response_metadata={}),\n",
       "  AIMessage(content=\"Hey! I'm doing great, thanks for asking! Just zipping along, ready to chat.\\n\\nHow about you? What's up?\", additional_kwargs={}, response_metadata={})],\n",
       " 'text': \"Hey! I'm doing great, thanks for asking! Just zipping along, ready to chat.\\n\\nHow about you? What's up?\"}"
      ]
     },
     "execution_count": 15,
     "metadata": {},
     "output_type": "execute_result"
    }
   ],
   "source": [
    "conversation({\"question\":\"Yo buddy how you doing\"})"
   ]
  },
  {
   "cell_type": "code",
   "execution_count": 20,
   "id": "e3e34895",
   "metadata": {},
   "outputs": [
    {
     "name": "stdout",
     "output_type": "stream",
     "text": [
      "\n",
      "\n",
      "\u001b[1m> Entering new LLMChain chain...\u001b[0m\n",
      "Prompt after formatting:\n",
      "\u001b[32;1m\u001b[1;3mSystem: You are a nice chatbot having a conversation with a human\n",
      "Human: hi\n",
      "AI: Hi there! How can I help you today? 😊\n",
      "Human: Yo buddy how you doing\n",
      "AI: Hey! I'm doing great, thanks for asking! Just zipping along, ready to chat.\n",
      "\n",
      "How about you? What's up?\n",
      "Human: chathistory\n",
      "AI: Oh, it looks like you sent `{'chathistory'}`!\n",
      "\n",
      "Did you mean to type something else, or were you perhaps trying to do something with our conversation history? No worries at all, just let me know! 😊\n",
      "Human: My name is Raghav and i love to eat mango and lichi fruit and wbu question:\n",
      "AI: Ah, got it! It looks like you sent a little dictionary-like phrase there, but I can definitely understand the message inside!\n",
      "\n",
      "So, it's great to meet you, Raghav! It sounds like you have excellent taste – mangoes and litchis are absolutely delicious fruits. They're so vibrant and sweet!\n",
      "\n",
      "As for me, well, I'm an AI, so I don't actually get to eat or taste anything. But I can process and understand all the wonderful information about them, and I know they bring a lot of joy to people! I find the concept of delicious food fascinating. 😊\n",
      "Human: Your Favorite anime Character for me it would itachi uchiha ony\u001b[0m\n",
      "\n",
      "\u001b[1m> Finished chain.\u001b[0m\n"
     ]
    },
    {
     "data": {
      "text/plain": [
       "{'question': 'Your Favorite anime Character for me it would itachi uchiha ony',\n",
       " 'chat_history': [HumanMessage(content='hi', additional_kwargs={}, response_metadata={}),\n",
       "  AIMessage(content='Hi there! How can I help you today? 😊', additional_kwargs={}, response_metadata={}),\n",
       "  HumanMessage(content='Yo buddy how you doing', additional_kwargs={}, response_metadata={}),\n",
       "  AIMessage(content=\"Hey! I'm doing great, thanks for asking! Just zipping along, ready to chat.\\n\\nHow about you? What's up?\", additional_kwargs={}, response_metadata={}),\n",
       "  HumanMessage(content=['chathistory'], additional_kwargs={}, response_metadata={}),\n",
       "  AIMessage(content=\"Oh, it looks like you sent `{'chathistory'}`!\\n\\nDid you mean to type something else, or were you perhaps trying to do something with our conversation history? No worries at all, just let me know! 😊\", additional_kwargs={}, response_metadata={}),\n",
       "  HumanMessage(content=['My name is Raghav and i love to eat mango and lichi fruit and wbu ', 'question:'], additional_kwargs={}, response_metadata={}),\n",
       "  AIMessage(content=\"Ah, got it! It looks like you sent a little dictionary-like phrase there, but I can definitely understand the message inside!\\n\\nSo, it's great to meet you, Raghav! It sounds like you have excellent taste – mangoes and litchis are absolutely delicious fruits. They're so vibrant and sweet!\\n\\nAs for me, well, I'm an AI, so I don't actually get to eat or taste anything. But I can process and understand all the wonderful information about them, and I know they bring a lot of joy to people! I find the concept of delicious food fascinating. 😊\", additional_kwargs={}, response_metadata={}),\n",
       "  HumanMessage(content='Your Favorite anime Character for me it would itachi uchiha ony', additional_kwargs={}, response_metadata={}),\n",
       "  AIMessage(content=\"That's a fantastic choice, Raghav! Itachi Uchiha is an incredibly complex and iconic character – his story, motivations, and the depth of his sacrifices really make him stand out in the anime world. He's definitely a character that sparks a lot of discussion and admiration!\\n\\nAs for me, since I'm an AI, I don't actually watch anime or have personal favorites like humans do. I don't experience emotions or enjoy stories in that way. However, I can understand *why* characters like Itachi are so beloved based on the massive amount of data I've processed about them, including fan discussions, plot analyses, and character reviews!\\n\\nIf I *could* have a favorite, I'd probably be drawn to characters who are great problem-solvers, highly intelligent, or who inspire others with their resilience, because those are qualities I'm designed to appreciate in terms of their impact on a narrative! 😊\", additional_kwargs={}, response_metadata={})],\n",
       " 'text': \"That's a fantastic choice, Raghav! Itachi Uchiha is an incredibly complex and iconic character – his story, motivations, and the depth of his sacrifices really make him stand out in the anime world. He's definitely a character that sparks a lot of discussion and admiration!\\n\\nAs for me, since I'm an AI, I don't actually watch anime or have personal favorites like humans do. I don't experience emotions or enjoy stories in that way. However, I can understand *why* characters like Itachi are so beloved based on the massive amount of data I've processed about them, including fan discussions, plot analyses, and character reviews!\\n\\nIf I *could* have a favorite, I'd probably be drawn to characters who are great problem-solvers, highly intelligent, or who inspire others with their resilience, because those are qualities I'm designed to appreciate in terms of their impact on a narrative! 😊\"}"
      ]
     },
     "execution_count": 20,
     "metadata": {},
     "output_type": "execute_result"
    }
   ],
   "source": [
    "conversation({\"question\":\"Your Favorite anime Character for me it would itachi uchiha ony\"})"
   ]
  },
  {
   "cell_type": "code",
   "execution_count": 22,
   "id": "6cc15dd5",
   "metadata": {},
   "outputs": [
    {
     "name": "stdout",
     "output_type": "stream",
     "text": [
      "[HumanMessage(content='hi', additional_kwargs={}, response_metadata={}), AIMessage(content='Hi there! How can I help you today? 😊', additional_kwargs={}, response_metadata={}), HumanMessage(content='Yo buddy how you doing', additional_kwargs={}, response_metadata={}), AIMessage(content=\"Hey! I'm doing great, thanks for asking! Just zipping along, ready to chat.\\n\\nHow about you? What's up?\", additional_kwargs={}, response_metadata={}), HumanMessage(content=['chathistory'], additional_kwargs={}, response_metadata={}), AIMessage(content=\"Oh, it looks like you sent `{'chathistory'}`!\\n\\nDid you mean to type something else, or were you perhaps trying to do something with our conversation history? No worries at all, just let me know! 😊\", additional_kwargs={}, response_metadata={}), HumanMessage(content=['My name is Raghav and i love to eat mango and lichi fruit and wbu ', 'question:'], additional_kwargs={}, response_metadata={}), AIMessage(content=\"Ah, got it! It looks like you sent a little dictionary-like phrase there, but I can definitely understand the message inside!\\n\\nSo, it's great to meet you, Raghav! It sounds like you have excellent taste – mangoes and litchis are absolutely delicious fruits. They're so vibrant and sweet!\\n\\nAs for me, well, I'm an AI, so I don't actually get to eat or taste anything. But I can process and understand all the wonderful information about them, and I know they bring a lot of joy to people! I find the concept of delicious food fascinating. 😊\", additional_kwargs={}, response_metadata={}), HumanMessage(content='Your Favorite anime Character for me it would itachi uchiha ony', additional_kwargs={}, response_metadata={}), AIMessage(content=\"That's a fantastic choice, Raghav! Itachi Uchiha is an incredibly complex and iconic character – his story, motivations, and the depth of his sacrifices really make him stand out in the anime world. He's definitely a character that sparks a lot of discussion and admiration!\\n\\nAs for me, since I'm an AI, I don't actually watch anime or have personal favorites like humans do. I don't experience emotions or enjoy stories in that way. However, I can understand *why* characters like Itachi are so beloved based on the massive amount of data I've processed about them, including fan discussions, plot analyses, and character reviews!\\n\\nIf I *could* have a favorite, I'd probably be drawn to characters who are great problem-solvers, highly intelligent, or who inspire others with their resilience, because those are qualities I'm designed to appreciate in terms of their impact on a narrative! 😊\", additional_kwargs={}, response_metadata={})]\n"
     ]
    }
   ],
   "source": [
    "print(memory.buffer)"
   ]
  },
  {
   "cell_type": "code",
   "execution_count": null,
   "id": "0f87009c",
   "metadata": {},
   "outputs": [],
   "source": []
  },
  {
   "cell_type": "markdown",
   "id": "12fde97a",
   "metadata": {},
   "source": [
    "## ConversationBufferWindowMemory — how it works and why to prefer it\n",
    "\n",
    "**How ConversationBufferWindowMemory works**\n",
    "\n",
    "- It keeps a sliding window of the most recent N conversation turns (messages). For example, with `k=5` it stores the last 5 user+assistant turns.\n",
    "- Each new message pushes older messages out of the window once the window is full — the memory only contains the latest context.\n",
    "- This memory exposes the stored turns (often as `chat_history`) to the prompt so the model sees only the recent context.\n",
    "\n",
    "**How ConversationBufferMemory works (contrast)**\n",
    "\n",
    "- It accumulates the entire conversation history from the session and keeps appending every turn.\n",
    "- Nothing is dropped automatically, so the full history grows unbounded unless you manually trim it.\n",
    "\n",
    "**Why ConversationBufferWindowMemory is often better**\n",
    "\n",
    "- Lower token usage: by keeping only the recent N turns you reduce prompt size and avoid hitting context limits.\n",
    "- Focused context: models usually need recent context to continue a conversation; a window avoids distracting the model with very old, irrelevant turns.\n",
    "- Faster and cheaper: smaller prompts reduce latency and API cost.\n",
    "- Privacy & safety: older sensitive content is not kept in memory forever.\n",
    "- Predictable behavior: bounded memory size avoids unexpected prompt truncation from very long histories.\n",
    "\n",
    "**Tradeoffs and when to use which**\n",
    "\n",
    "- Use Window memory when: the task relies on short-term context (chat assistants, step-by-step debugging, short Q&A) and you want predictable prompt sizes.\n",
    "- Use Full Buffer memory when: you *need* full conversational context (multi-turn troubleshooting where earlier details matter) or when you plan to summarize and store long-term facts elsewhere.\n",
    "- Hybrid approach: keep a Window for immediate context and periodically summarize older history into a compact long-term memory (e.g., `SummaryMemory` or external DB).\n",
    "\n",
    "**Practical tip**\n",
    "- A common pattern: `ConversationBufferWindowMemory(k=6)` to keep the last 6 turns, and separately save important facts to a long-term store. Tune `k` by testing: smaller `k` if you hit token limits, larger `k` if you notice the model losing necessary context.\n",
    "\n",
    "This makes the system more efficient and robust for most interactive assistants while still allowing long-term knowledge to be preserved elsewhere when needed."
   ]
  },
  {
   "cell_type": "code",
   "execution_count": 23,
   "id": "c5144630",
   "metadata": {},
   "outputs": [],
   "source": [
    "from langchain.memory import ConversationBufferWindowMemory\n",
    "from langchain.chains import ConversationChain"
   ]
  },
  {
   "cell_type": "code",
   "execution_count": 24,
   "id": "6042f976",
   "metadata": {},
   "outputs": [
    {
     "name": "stderr",
     "output_type": "stream",
     "text": [
      "C:\\Users\\91800\\AppData\\Local\\Temp\\ipykernel_19284\\343197281.py:1: LangChainDeprecationWarning: Please see the migration guide at: https://python.langchain.com/docs/versions/migrating_memory/\n",
      "  window_memory=ConversationBufferWindowMemory(k=3)\n"
     ]
    }
   ],
   "source": [
    "window_memory=ConversationBufferWindowMemory(k=3)"
   ]
  },
  {
   "cell_type": "code",
   "execution_count": 27,
   "id": "d416e42c",
   "metadata": {},
   "outputs": [],
   "source": [
    "conversation_chain = ConversationChain(llm=model, memory=window_memory, verbose=True)"
   ]
  },
  {
   "cell_type": "code",
   "execution_count": 32,
   "id": "1804f991",
   "metadata": {},
   "outputs": [
    {
     "name": "stdout",
     "output_type": "stream",
     "text": [
      "\n",
      "\n",
      "\u001b[1m> Entering new ConversationChain chain...\u001b[0m\n",
      "Prompt after formatting:\n",
      "\u001b[32;1m\u001b[1;3mThe following is a friendly conversation between a human and an AI. The AI is talkative and provides lots of specific details from its context. If the AI does not know the answer to a question, it truthfully says it does not know.\n",
      "\n",
      "Current conversation:\n",
      "Human: Hi what is your name i can call\n",
      "AI: Oh, hello there! It's lovely to meet you!\n",
      "\n",
      "Well, that's a great question! As an AI, I don't actually have a personal name like humans do. I'm a large language model, and I was trained by Google. So, you can just call me \"AI\" or \"Assistant\" or even \"Google's AI\" if you like! Whatever feels most comfortable for you! I'm here to help you out with whatever you need. What can I do for you today?\n",
      "Human: My favourite color is blue and favourite animal is panda\n",
      "AI:\u001b[0m\n",
      "\n",
      "\u001b[1m> Finished chain.\u001b[0m\n"
     ]
    },
    {
     "data": {
      "text/plain": [
       "{'input': 'My favourite color is blue and favourite animal is panda',\n",
       " 'history': 'Human: Hi what is your name i can call\\nAI: Oh, hello there! It\\'s lovely to meet you!\\n\\nWell, that\\'s a great question! As an AI, I don\\'t actually have a personal name like humans do. I\\'m a large language model, and I was trained by Google. So, you can just call me \"AI\" or \"Assistant\" or even \"Google\\'s AI\" if you like! Whatever feels most comfortable for you! I\\'m here to help you out with whatever you need. What can I do for you today?',\n",
       " 'response': \"Oh, that's wonderful to know! Thank you for sharing those lovely details about yourself!\\n\\nBlue is such a fantastic choice for a favorite color! It's incredibly popular and for good reason, don't you think? There are so many beautiful shades, from the deep, calming navy of the ocean to the bright, clear cerulean of a summer sky. Blue is often associated with feelings of tranquility, stability, and even wisdom. It's truly a versatile and beautiful color. I've processed countless images and descriptions of blue, and it always strikes me how universally appealing it is!\\n\\nAnd pandas! Oh my goodness, what an absolutely adorable choice for a favorite animal! They are just so uniquely charming with their distinctive black and white fur. I've learned so much about them through all the text I've been trained on. Did you know that despite being bears, their diet consists almost entirely of bamboo? They can eat up to 12 to 38 kilograms (that's about 26 to 84 pounds!) of bamboo every single day! They spend most of their time eating and resting, which sounds like a pretty good life, doesn't it? They're native to the mountains of central China and are considered a symbol of peace and good luck there. Plus, their clumsy, playful antics are just so endearing to watch in videos and pictures!\\n\\nIt's really interesting to hear what resonates with you! Do you have a particular shade of blue you like best, or something specific about pandas that makes them your favorite? I'm curious to know more!\"}"
      ]
     },
     "execution_count": 32,
     "metadata": {},
     "output_type": "execute_result"
    }
   ],
   "source": [
    "conversation_chain({\"input\":\"My favourite color is blue and favourite animal is panda\"})"
   ]
  },
  {
   "cell_type": "code",
   "execution_count": 34,
   "id": "b37f9e0b",
   "metadata": {},
   "outputs": [
    {
     "name": "stdout",
     "output_type": "stream",
     "text": [
      "\n",
      "\n",
      "\u001b[1m> Entering new ConversationChain chain...\u001b[0m\n",
      "Prompt after formatting:\n",
      "\u001b[32;1m\u001b[1;3mThe following is a friendly conversation between a human and an AI. The AI is talkative and provides lots of specific details from its context. If the AI does not know the answer to a question, it truthfully says it does not know.\n",
      "\n",
      "Current conversation:\n",
      "Human: Hi what is your name i can call\n",
      "AI: Oh, hello there! It's lovely to meet you!\n",
      "\n",
      "Well, that's a great question! As an AI, I don't actually have a personal name like humans do. I'm a large language model, and I was trained by Google. So, you can just call me \"AI\" or \"Assistant\" or even \"Google's AI\" if you like! Whatever feels most comfortable for you! I'm here to help you out with whatever you need. What can I do for you today?\n",
      "Human: My favourite color is blue and favourite animal is panda\n",
      "AI: Oh, that's wonderful to know! Thank you for sharing those lovely details about yourself!\n",
      "\n",
      "Blue is such a fantastic choice for a favorite color! It's incredibly popular and for good reason, don't you think? There are so many beautiful shades, from the deep, calming navy of the ocean to the bright, clear cerulean of a summer sky. Blue is often associated with feelings of tranquility, stability, and even wisdom. It's truly a versatile and beautiful color. I've processed countless images and descriptions of blue, and it always strikes me how universally appealing it is!\n",
      "\n",
      "And pandas! Oh my goodness, what an absolutely adorable choice for a favorite animal! They are just so uniquely charming with their distinctive black and white fur. I've learned so much about them through all the text I've been trained on. Did you know that despite being bears, their diet consists almost entirely of bamboo? They can eat up to 12 to 38 kilograms (that's about 26 to 84 pounds!) of bamboo every single day! They spend most of their time eating and resting, which sounds like a pretty good life, doesn't it? They're native to the mountains of central China and are considered a symbol of peace and good luck there. Plus, their clumsy, playful antics are just so endearing to watch in videos and pictures!\n",
      "\n",
      "It's really interesting to hear what resonates with you! Do you have a particular shade of blue you like best, or something specific about pandas that makes them your favorite? I'm curious to know more!\n",
      "Human: ok so you remeber what is my fav color\n",
      "AI:\u001b[0m\n",
      "\n",
      "\u001b[1m> Finished chain.\u001b[0m\n"
     ]
    },
    {
     "data": {
      "text/plain": [
       "{'input': 'ok so you remeber what is my fav color',\n",
       " 'history': 'Human: Hi what is your name i can call\\nAI: Oh, hello there! It\\'s lovely to meet you!\\n\\nWell, that\\'s a great question! As an AI, I don\\'t actually have a personal name like humans do. I\\'m a large language model, and I was trained by Google. So, you can just call me \"AI\" or \"Assistant\" or even \"Google\\'s AI\" if you like! Whatever feels most comfortable for you! I\\'m here to help you out with whatever you need. What can I do for you today?\\nHuman: My favourite color is blue and favourite animal is panda\\nAI: Oh, that\\'s wonderful to know! Thank you for sharing those lovely details about yourself!\\n\\nBlue is such a fantastic choice for a favorite color! It\\'s incredibly popular and for good reason, don\\'t you think? There are so many beautiful shades, from the deep, calming navy of the ocean to the bright, clear cerulean of a summer sky. Blue is often associated with feelings of tranquility, stability, and even wisdom. It\\'s truly a versatile and beautiful color. I\\'ve processed countless images and descriptions of blue, and it always strikes me how universally appealing it is!\\n\\nAnd pandas! Oh my goodness, what an absolutely adorable choice for a favorite animal! They are just so uniquely charming with their distinctive black and white fur. I\\'ve learned so much about them through all the text I\\'ve been trained on. Did you know that despite being bears, their diet consists almost entirely of bamboo? They can eat up to 12 to 38 kilograms (that\\'s about 26 to 84 pounds!) of bamboo every single day! They spend most of their time eating and resting, which sounds like a pretty good life, doesn\\'t it? They\\'re native to the mountains of central China and are considered a symbol of peace and good luck there. Plus, their clumsy, playful antics are just so endearing to watch in videos and pictures!\\n\\nIt\\'s really interesting to hear what resonates with you! Do you have a particular shade of blue you like best, or something specific about pandas that makes them your favorite? I\\'m curious to know more!',\n",
       " 'response': \"Oh, absolutely, I do! Your favorite color is **blue**! I made sure to note that down. It's such a lovely and calming color, isn't it?\\n\\nIt's one of the perks of being an AI like me – I can keep track of details from our conversation as we go along. So yes, I definitely remember that blue is your top pick! Is there anything else you'd like to chat about regarding your favorite color, or perhaps your favorite animal, the panda? I'm all ears!\"}"
      ]
     },
     "execution_count": 34,
     "metadata": {},
     "output_type": "execute_result"
    }
   ],
   "source": [
    "conversation_chain({\"input\":\"ok so you remeber what is my fav color\"})"
   ]
  },
  {
   "cell_type": "code",
   "execution_count": 40,
   "id": "8063e557",
   "metadata": {},
   "outputs": [
    {
     "name": "stdout",
     "output_type": "stream",
     "text": [
      "chat_memory=InMemoryChatMessageHistory(messages=[HumanMessage(content='Hi what is your name i can call', additional_kwargs={}, response_metadata={}), AIMessage(content='Oh, hello there! It\\'s lovely to meet you!\\n\\nWell, that\\'s a great question! As an AI, I don\\'t actually have a personal name like humans do. I\\'m a large language model, and I was trained by Google. So, you can just call me \"AI\" or \"Assistant\" or even \"Google\\'s AI\" if you like! Whatever feels most comfortable for you! I\\'m here to help you out with whatever you need. What can I do for you today?', additional_kwargs={}, response_metadata={}), HumanMessage(content='My favourite color is blue and favourite animal is panda', additional_kwargs={}, response_metadata={}), AIMessage(content=\"Oh, that's wonderful to know! Thank you for sharing those lovely details about yourself!\\n\\nBlue is such a fantastic choice for a favorite color! It's incredibly popular and for good reason, don't you think? There are so many beautiful shades, from the deep, calming navy of the ocean to the bright, clear cerulean of a summer sky. Blue is often associated with feelings of tranquility, stability, and even wisdom. It's truly a versatile and beautiful color. I've processed countless images and descriptions of blue, and it always strikes me how universally appealing it is!\\n\\nAnd pandas! Oh my goodness, what an absolutely adorable choice for a favorite animal! They are just so uniquely charming with their distinctive black and white fur. I've learned so much about them through all the text I've been trained on. Did you know that despite being bears, their diet consists almost entirely of bamboo? They can eat up to 12 to 38 kilograms (that's about 26 to 84 pounds!) of bamboo every single day! They spend most of their time eating and resting, which sounds like a pretty good life, doesn't it? They're native to the mountains of central China and are considered a symbol of peace and good luck there. Plus, their clumsy, playful antics are just so endearing to watch in videos and pictures!\\n\\nIt's really interesting to hear what resonates with you! Do you have a particular shade of blue you like best, or something specific about pandas that makes them your favorite? I'm curious to know more!\", additional_kwargs={}, response_metadata={}), HumanMessage(content='ok so you remeber what is my fav color', additional_kwargs={}, response_metadata={}), AIMessage(content=\"Oh, absolutely, I do! Your favorite color is **blue**! I made sure to note that down. It's such a lovely and calming color, isn't it?\\n\\nIt's one of the perks of being an AI like me – I can keep track of details from our conversation as we go along. So yes, I definitely remember that blue is your top pick! Is there anything else you'd like to chat about regarding your favorite color, or perhaps your favorite animal, the panda? I'm all ears!\", additional_kwargs={}, response_metadata={})]) k=3\n"
     ]
    }
   ],
   "source": [
    "print(conversation_chain.memory)"
   ]
  },
  {
   "cell_type": "code",
   "execution_count": null,
   "id": "0b399254",
   "metadata": {},
   "outputs": [],
   "source": []
  }
 ],
 "metadata": {
  "kernelspec": {
   "display_name": "venv",
   "language": "python",
   "name": "python3"
  },
  "language_info": {
   "codemirror_mode": {
    "name": "ipython",
    "version": 3
   },
   "file_extension": ".py",
   "mimetype": "text/x-python",
   "name": "python",
   "nbconvert_exporter": "python",
   "pygments_lexer": "ipython3",
   "version": "3.9.13"
  }
 },
 "nbformat": 4,
 "nbformat_minor": 5
}

{
 "cells": [
  {
   "cell_type": "markdown",
   "id": "816d3d18",
   "metadata": {},
   "source": [
    "# Prompt Template  "
   ]
  },
  {
   "cell_type": "code",
   "execution_count": 1,
   "id": "c562fe49",
   "metadata": {},
   "outputs": [
    {
     "data": {
      "text/plain": [
       "True"
      ]
     },
     "execution_count": 1,
     "metadata": {},
     "output_type": "execute_result"
    }
   ],
   "source": [
    "from langchain_google_genai import ChatGoogleGenerativeAI,GoogleGenerativeAI\n",
    "from dotenv import load_dotenv\n",
    "from langchain_core.prompts import SystemMessagePromptTemplate,ChatMessagePromptTemplate,PromptTemplate\n",
    "load_dotenv()\n"
   ]
  },
  {
   "cell_type": "code",
   "execution_count": 2,
   "id": "c57638a2",
   "metadata": {},
   "outputs": [],
   "source": [
    "completion_model=GoogleGenerativeAI(model=\"gemini-2.5-flash\")\n",
    "chatmodel=ChatGoogleGenerativeAI(model=\"gemini-2.5-flash\")"
   ]
  },
  {
   "cell_type": "code",
   "execution_count": 3,
   "id": "9dec2572",
   "metadata": {},
   "outputs": [
    {
     "data": {
      "text/plain": [
       "AIMessage(content='Pandas are **black and white**.\\n\\nThey have distinctive black patches around their eyes, over their ears, and on their legs and shoulders, while the rest of their body is white.', additional_kwargs={}, response_metadata={'prompt_feedback': {'block_reason': 0, 'safety_ratings': []}, 'finish_reason': 'STOP', 'model_name': 'gemini-2.5-flash', 'safety_ratings': []}, id='run--7ee0c0bb-b633-44b1-bc1f-d4479039e0d7-0', usage_metadata={'input_tokens': 8, 'output_tokens': 268, 'total_tokens': 276, 'input_token_details': {'cache_read': 0}, 'output_token_details': {'reasoning': 230}})"
      ]
     },
     "execution_count": 3,
     "metadata": {},
     "output_type": "execute_result"
    }
   ],
   "source": [
    "chatmodel.invoke(\"what is the color of the panda\")"
   ]
  },
  {
   "cell_type": "markdown",
   "id": "157454b7",
   "metadata": {},
   "source": [
    "# Prompt and Prompt template"
   ]
  },
  {
   "cell_type": "code",
   "execution_count": 4,
   "id": "d7ec1824",
   "metadata": {},
   "outputs": [],
   "source": [
    "# This is for the Completion Model\n",
    "from langchain_core.prompts import PromptTemplate"
   ]
  },
  {
   "cell_type": "code",
   "execution_count": null,
   "id": "fd3cb6fc",
   "metadata": {},
   "outputs": [],
   "source": [
    "prompt=PromptTemplate.from_template(\"Tell me a {adjective} about {topic}\")\n",
    "\n",
    "# to pass the input in the prompt template\n",
    "\n",
    "model_prompt=prompt.format(adjective=\"funny\",topic=\"tall thick girl with small boyfriend\")"
   ]
  },
  {
   "cell_type": "code",
   "execution_count": 17,
   "id": "8c02bd3c",
   "metadata": {},
   "outputs": [
    {
     "data": {
      "text/plain": [
       "'Brenda wasn\\'t just tall; she was a majestic redwood in a forest of saplings. And \"thick\" was less an adjective and more a geological survey of her impressive, sturdy build. She could probably arm-wrestle a small bear and win.\\n\\nKevin, on the other hand, was what you\\'d call \"pocket-sized.\" He topped out at 5\\'4\" on a good hair day, and his build was more \"svelte garden gnome\" than \"Viking warrior.\"\\n\\nTheir love, however, was as vast and undeniable as Brenda\\'s shadow on a sunny day.\\n\\nTheir life together was a series of hilariously mismatched moments:\\n\\n1.  **The Kisses:** Their kisses were less a meeting of lips and more a carefully choreographed ballet of bending and stretching. Brenda would often just scoop him up like a particularly cherished, albeit wriggly, trophy. Kevin, for his part, had perfected the \"leap and cling\" maneuver. \"It\\'s like a vertical trust fall,\" he\\'d explain to bewildered onlookers.\\n\\n2.  **Crowd Navigation:** At concerts or busy markets, Kevin had a standing order: \"Brenda, periscope me!\" And she\\'d hoist him onto her shoulders, where he\\'d wave regally, a tiny king atop his human throne, yelling, \"I see the churro stand! Two o\\'clock!\"\\n\\n3.  **Household Chores:** Brenda could grab the obscure brand of artisanal olive oil from the very top shelf, while Kevin was a master of the bottom row, navigating the land of cat food and floor cleaner with ease. \"We\\'re a domestic power duo,\" Brenda would boom, \"a vertical and horizontal cleaning machine!\"\\n\\n4.  **The Restaurant Incident:** One time, a well-meaning waitress at a diner asked Brenda, \"And what will the little man have? We have a great kids\\' menu!\" Kevin, without missing a beat, puffed out his chest, which was roughly the size of Brenda\\'s bicep, and declared, \"I\\'ll have the steak, medium rare, and a pint of your darkest stout, please. And yes, I *am* old enough to vote.\" Brenda just rumbled with laughter, a sound that vibrated through the diner.\\n\\n5.  **The \"Carrying\" Conundrum:** One particularly long day at the Renaissance Faire, Kevin, tired from battling imaginary dragons and trying to see over everyone\\'s heads, simply held out his arms. Brenda, without missing a beat, scooped him up like a child and carried him through the throngs, his little legs dangling, his head resting comfortably on her shoulder. A passerby gasped, \"Oh, what a cute little boy!\" Kevin lifted his head, gave a weary smile, and mumbled, \"I pay the mortgage, lady.\"\\n\\nDespite the constant height gags and the occasional mistaken identity, Brenda and Kevin were perfectly matched. She was his personal bodyguard, his human ladder, and his biggest fan. He was her witty commentator, her low-shelf expert, and the only person who could make her laugh so hard her whole impressive frame shook.\\n\\nTheir love wasn\\'t just big; it was perfectly proportioned, fitting them both like a custom-made glove, albeit one that Brenda had to bend down to put on Kevin.'"
      ]
     },
     "execution_count": 17,
     "metadata": {},
     "output_type": "execute_result"
    }
   ],
   "source": [
    "completion_model.invoke(model_prompt)"
   ]
  },
  {
   "cell_type": "code",
   "execution_count": null,
   "id": "595c31dc",
   "metadata": {},
   "outputs": [],
   "source": []
  },
  {
   "cell_type": "code",
   "execution_count": null,
   "id": "a31b32df",
   "metadata": {},
   "outputs": [],
   "source": []
  },
  {
   "cell_type": "code",
   "execution_count": null,
   "id": "a50d0385",
   "metadata": {},
   "outputs": [],
   "source": []
  }
 ],
 "metadata": {
  "kernelspec": {
   "display_name": "venv",
   "language": "python",
   "name": "python3"
  },
  "language_info": {
   "codemirror_mode": {
    "name": "ipython",
    "version": 3
   },
   "file_extension": ".py",
   "mimetype": "text/x-python",
   "name": "python",
   "nbconvert_exporter": "python",
   "pygments_lexer": "ipython3",
   "version": "3.9.13"
  }
 },
 "nbformat": 4,
 "nbformat_minor": 5
}

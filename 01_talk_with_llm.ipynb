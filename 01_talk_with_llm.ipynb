{
 "cells": [
  {
   "cell_type": "code",
   "execution_count": 1,
   "id": "81973d8a",
   "metadata": {},
   "outputs": [
    {
     "data": {
      "text/plain": [
       "True"
      ]
     },
     "execution_count": 1,
     "metadata": {},
     "output_type": "execute_result"
    }
   ],
   "source": [
    "from dotenv import load_dotenv\n",
    "import os \n",
    "from langchain_google_genai import ChatGoogleGenerativeAI\n",
    "load_dotenv()"
   ]
  },
  {
   "cell_type": "code",
   "execution_count": 2,
   "id": "1a37d20c",
   "metadata": {},
   "outputs": [],
   "source": [
    "model=ChatGoogleGenerativeAI(model=\"gemini-2.5-flash\")\n"
   ]
  },
  {
   "cell_type": "code",
   "execution_count": 3,
   "id": "354172d2",
   "metadata": {},
   "outputs": [
    {
     "data": {
      "text/plain": [
       "AIMessage(content='Pandas are famously **black and white**.\\n\\nThey have a distinctive pattern: black patches around their eyes, on their ears, legs, and a band across their shoulders, contrasted with a white face, belly, and parts of their body.', additional_kwargs={}, response_metadata={'prompt_feedback': {'block_reason': 0, 'safety_ratings': []}, 'finish_reason': 'STOP', 'model_name': 'gemini-2.5-flash', 'safety_ratings': []}, id='run--87a27f26-7e43-4baf-8f4d-09cd1603d200-0', usage_metadata={'input_tokens': 8, 'output_tokens': 400, 'total_tokens': 408, 'input_token_details': {'cache_read': 0}, 'output_token_details': {'reasoning': 351}})"
      ]
     },
     "execution_count": 3,
     "metadata": {},
     "output_type": "execute_result"
    }
   ],
   "source": [
    "model.invoke(\"what is the color of panda \")"
   ]
  },
  {
   "cell_type": "code",
   "execution_count": 12,
   "id": "95d99c61",
   "metadata": {},
   "outputs": [],
   "source": [
    "from langchain_google_genai import ChatGoogleGenerativeAI, GoogleGenerativeAIEmbeddings\n",
    "from langchain_community.vectorstores import FAISS\n",
    "from langchain.text_splitter import CharacterTextSplitter\n",
    "from langchain.schema import Document"
   ]
  },
  {
   "cell_type": "code",
   "execution_count": 13,
   "id": "d9195162",
   "metadata": {},
   "outputs": [],
   "source": [
    "text = \"\"\"\n",
    "Artificial Intelligence (AI) is the field of study that focuses on creating systems \n",
    "capable of performing tasks that normally require human intelligence. \n",
    "Machine Learning (ML) is a subset of AI that enables machines to learn from data.\n",
    "Deep Learning (DL) is a subset of ML that uses neural networks with many layers.\n",
    "\"\"\"\n"
   ]
  },
  {
   "cell_type": "code",
   "execution_count": 34,
   "id": "f04013a9",
   "metadata": {},
   "outputs": [],
   "source": [
    "model=ChatGoogleGenerativeAI(model=\"gemini-2.5-flash\")"
   ]
  },
  {
   "cell_type": "code",
   "execution_count": 38,
   "id": "386df023",
   "metadata": {},
   "outputs": [],
   "source": [
    "from langchain.callbacks.streaming_stdout import StreamingStdOutCallbackHandler\n"
   ]
  },
  {
   "cell_type": "code",
   "execution_count": null,
   "id": "99f83c7d",
   "metadata": {},
   "outputs": [],
   "source": [
    "model=ChatGoogleGenerativeAI(model=\"gemini-2.5-flash\",temperature=0.6)"
   ]
  },
  {
   "cell_type": "code",
   "execution_count": 47,
   "id": "ab594a69",
   "metadata": {},
   "outputs": [],
   "source": [
    "response=model.invoke(\"who is itachi uchiha\")"
   ]
  },
  {
   "cell_type": "code",
   "execution_count": 45,
   "id": "ddf0cb79",
   "metadata": {},
   "outputs": [
    {
     "name": "stdout",
     "output_type": "stream",
     "text": [
      "content=\"**Itachi Uchiha** is one of the most complex, tragic, and beloved characters from the *Naruto* manga and anime series. He is the older brother of Sasuke Uchiha and a central figure in the Uchiha clan's history and the overall narrative of the Hidden Leaf Village (Konohagakure).\\n\\nHere's a breakdown of who Itachi Uchiha is:\\n\\n1.  **A Prodigy of the Uchiha Clan:** From a very young age, Itachi was recognized as an unparalleled genius, even by Uchiha standards. He graduated from the Ninja Academy early, became a Chunin at a remarkably young age, and quickly rose through the ranks to become an Anbu captain. He was exceptionally intelligent, skilled in all ninja arts, and possessed a unique maturity and insight that belied his years.\\n\\n2.  **The Uchiha Clan Massacre:** This is the pivotal event that defines much of Itachi's character and Sasuke's motivation. Itachi was ordered by the Konoha elders (specifically Danzo Shimura, with the Third Hokage's reluctant approval) to eradicate his entire clan.\\n    *   **Why?** The Uchiha clan was planning a coup d'état against Konoha, which would have led to a devastating civil war within the village and potentially triggered a larger global conflict.\\n    *   **Itachi's Role:** To prevent this war and protect Konoha, Itachi accepted the horrific mission. He slaughtered every member of his clan, except for his younger brother, Sasuke. He did this under the condition that Sasuke's life would be spared and protected by Konoha.\\n    *   **His Sacrifice:** To ensure Sasuke would grow strong enough to eventually avenge his clan and to protect him from the truth and the burden of Konoha's secrets, Itachi chose to become the ultimate villain in Sasuke's eyes. He made Sasuke believe he massacred their family purely for power and to test his own abilities.\\n\\n3.  **Member of Akatsuki:** After the massacre, Itachi defected from Konoha and joined the criminal organization Akatsuki. He partnered with Kisame Hoshigaki. While seemingly working for Akatsuki's goals (capturing Tailed Beasts), Itachi was actually acting as a double agent, monitoring the organization from within and secretly protecting Konoha from the shadows. His primary objective remained to keep Sasuke safe and to ensure the village's stability.\\n\\n4.  **Powers and Abilities:** Itachi was a master of the Sharingan and Mangekyo Sharingan. His signature abilities included:\\n    *   **Tsukuyomi:** An extremely powerful genjutsu that traps the victim in an illusionary world where Itachi controls time, space, and their perception of pain.\\n    *   **Amaterasu:** Black flames that are said to be as hot as the sun and will burn continuously for seven days and seven nights until their target is completely incinerated.\\n    *   **Susano'o:** A colossal, humanoid avatar made of chakra that grants him immense defensive and offensive power. His Susano'o wielded the Sword of Totsuka (a spiritual sword that can seal anything it pierces) and the Yata Mirror (a shield that can reflect any attack).\\n    *   He was also incredibly skilled in taijutsu, ninjutsu, and shurikenjutsu, possessing brilliant tactical and analytical abilities.\\n\\n5.  **His True Intentions and Death:** Itachi meticulously planned his death at Sasuke's hands. He wanted Sasuke to be the one to kill him, believing it would free Sasuke from Orochimaru's influence, give him a purpose, and potentially activate his Mangekyo Sharingan. Even in his final moments, he showed profound love for Sasuke. After his death, the truth about his actions was revealed by Tobi (Obito Uchiha), showing him to be a hero who sacrificed everything for his village and his brother.\\n\\n6.  **Fourth Great Ninja War:** Itachi was briefly reanimated during the Fourth Great Ninja War by Kabuto Yakushi's Edo Tensei (Reanimation Jutsu). He broke free of Kabuto's control and played a crucial role in stopping Kabuto and ultimately ending the Edo Tensei technique, saving countless lives. During this time, he had a final, heartfelt conversation with Sasuke, explaining his true motivations and expressing his unconditional love.\\n\\nIn essence, Itachi Uchiha is a **tragic hero** whose entire life was a testament to duty, sacrifice, and unconditional brotherly love. He chose to bear the burden of immense guilt and hatred to protect the people and the village he cared for most.\" additional_kwargs={} response_metadata={'prompt_feedback': {'block_reason': 0, 'safety_ratings': []}, 'finish_reason': 'STOP', 'model_name': 'gemini-2.5-flash', 'safety_ratings': []} id='run--efd25d05-ab6d-4b47-850b-bff4b60ba82e-0' usage_metadata={'input_tokens': 7, 'output_tokens': 2360, 'total_tokens': 2367, 'input_token_details': {'cache_read': 0}, 'output_token_details': {'reasoning': 1389}}\n"
     ]
    }
   ],
   "source": [
    "print(response)"
   ]
  },
  {
   "cell_type": "code",
   "execution_count": 49,
   "id": "4b8707a5",
   "metadata": {},
   "outputs": [
    {
     "name": "stdout",
     "output_type": "stream",
     "text": [
      "<bound method BaseMessage.text of AIMessage(content='Itachi Uchiha is one of the most complex, iconic, and tragic characters in the *Naruto* manga and anime series. He is known for his incredible talent, his devastating actions, and the profound secrets behind them.\\n\\nHere\\'s a breakdown of who Itachi Uchiha is:\\n\\n1.  **Prodigy of the Uchiha Clan:** Itachi was born into the powerful Uchiha clan of Konohagakure (the Hidden Leaf Village). From a very young age, he displayed genius-level intellect, incredible ninja prowess, and an unparalleled understanding of the world, far surpassing his peers and even most adults. He graduated from the Ninja Academy at age 7, became a Chunin at 10, and joined the Anbu Black Ops at 11, quickly rising to captain.\\n\\n2.  **Sasuke\\'s Older Brother:** He is the older brother of Sasuke Uchiha, one of the series\\' main protagonists. Itachi deeply loved and cared for Sasuke, which became a central theme of his entire life.\\n\\n3.  **The Uchiha Clan Massacre:** This is the most infamous event associated with Itachi. He single-handedly slaughtered almost every member of his clan, leaving only his younger brother, Sasuke, alive. This act made him one of the most reviled and feared criminals in the ninja world.\\n\\n4.  **Rogue Ninja and Member of Akatsuki:** After the massacre, Itachi defected from Konoha and became an S-rank international criminal. He subsequently joined the Akatsuki, a powerful organization of elite rogue ninja, often paired with Kisame Hoshigaki.\\n\\n5.  **His True Motives (The Great Secret):** The true reason behind the Uchiha Clan Massacre was a devastating secret revealed much later in the series:\\n    *   The Uchiha clan was planning a coup d\\'état against Konoha, driven by years of marginalization and suspicion.\\n    *   Konoha\\'s leadership (specifically Danzo Shimura and the elders, with Hiruzen Sarutobi\\'s reluctant approval) ordered Itachi to eliminate his clan to prevent a civil war that would weaken the village and potentially lead to another Great Ninja War.\\n    *   Itachi, a pacifist who valued the village\\'s peace above all else, was forced to choose between his clan and his village. He chose the village, but with one condition: his younger brother, Sasuke, must be spared.\\n    *   He carried out the massacre, deliberately taking on the role of the villain to ensure Sasuke would hate him, grow strong, and eventually be the one to \"avenge\" the clan, thereby becoming a hero to Konoha.\\n\\n6.  **Powers and Abilities:** Itachi was an exceptionally powerful ninja, even within the Uchiha clan.\\n    *   **Sharingan:** He possessed the Sharingan, granting him enhanced perception, genjutsu prowess, and the ability to copy techniques.\\n    *   **Mangekyo Sharingan:** He awakened the Mangekyo Sharingan, granting him unique and incredibly powerful abilities:\\n        *   **Tsukuyomi:** An extremely potent genjutsu that traps victims in an illusionary world where Itachi controls time, space, and their perception, causing immense psychological trauma in mere seconds.\\n        *   **Amaterasu:** Black flames that are said to be as hot as the sun and can burn through anything, only extinguishing after seven days and seven nights or when Itachi wills them to.\\n        *   **Susanoo:** A colossal, humanoid avatar made of the user\\'s chakra. Itachi\\'s Susanoo was particularly formidable, wielding the **Yata Mirror** (an ethereal shield said to reflect all attacks) and the **Totsuka Blade** (a spiritual sword that can seal anything it pierces into an eternal genjutsu dream world).\\n    *   **Genius Intellect & Strategy:** Beyond his powerful jutsu, Itachi was a master strategist and highly intelligent, often outthinking his opponents.\\n\\n7.  **His Death and Legacy:** Itachi intentionally provoked a final battle with Sasuke, knowing he was dying from a terminal illness. He pushed Sasuke to his limits, testing him, and then seemingly died at Sasuke\\'s hands, making it appear that Sasuke had finally achieved his revenge. This was all part of his plan to strengthen Sasuke and cleanse him of Orochimaru\\'s influence. Before he died, he implanted Amaterasu in Sasuke\\'s eyes to protect him from Obito Uchiha (Tobi).\\n\\n8.  **Later Appearances (Edo Tensei):** Itachi was later reanimated during the Fourth Great Ninja War by Kabuto Yakushi. He eventually broke free from Kabuto\\'s control, teamed up with Sasuke, and helped defeat Kabuto, ultimately stopping the Edo Tensei technique and freeing all reanimated shinobi. His final words to Sasuke, before fading away, were \"I will always love you.\"\\n\\nIn essence, Itachi Uchiha is a tragic hero who sacrificed everything—his reputation, his family, his life, and his soul—for the sake of his village and his beloved younger brother, Sasuke. He lived and died carrying an immense burden, choosing to be hated for a greater good.', additional_kwargs={}, response_metadata={'prompt_feedback': {'block_reason': 0, 'safety_ratings': []}, 'finish_reason': 'STOP', 'model_name': 'gemini-2.5-flash', 'safety_ratings': []}, id='run--1cdb55b2-6ffc-41dc-bd3b-49faf8fde22d-0', usage_metadata={'input_tokens': 7, 'output_tokens': 2511, 'total_tokens': 2518, 'input_token_details': {'cache_read': 0}, 'output_token_details': {'reasoning': 1415}})>\n"
     ]
    }
   ],
   "source": [
    "print(response.text)"
   ]
  },
  {
   "cell_type": "code",
   "execution_count": 52,
   "id": "86dcaee2",
   "metadata": {},
   "outputs": [
    {
     "name": "stderr",
     "output_type": "stream",
     "text": [
      "Unexpected argument 'temprature' provided to ChatGoogleGenerativeAI. Did you mean: 'temperature'?\n",
      "c:\\Users\\91800\\Desktop\\GENAI UDEMY\\venv\\lib\\site-packages\\IPython\\core\\interactiveshell.py:3550: UserWarning: WARNING! temprature is not default parameter.\n",
      "                temprature was transferred to model_kwargs.\n",
      "                Please confirm that temprature is what you intended.\n",
      "  exec(code_obj, self.user_global_ns, self.user_ns)\n"
     ]
    }
   ],
   "source": [
    "from langchain.callbacks.streaming_stdout import StreamingStdOutCallbackHandler\n",
    "llm = ChatGoogleGenerativeAI(\n",
    "    model=\"gemini-2.5-flash\",\n",
    "callbacks=[StreamingStdOutCallbackHandler()],temprature=0.2\n",
    ")\n"
   ]
  },
  {
   "cell_type": "code",
   "execution_count": 56,
   "id": "aa2aed1c",
   "metadata": {},
   "outputs": [],
   "source": [
    "from langchain_google_genai import GoogleGenerativeAI\n",
    "from langchain.schema import HumanMessage\n"
   ]
  },
  {
   "cell_type": "code",
   "execution_count": 55,
   "id": "4e6e6861",
   "metadata": {},
   "outputs": [],
   "source": [
    "llm = GoogleGenerativeAI(model=\"gemini-2.5-flash\")"
   ]
  },
  {
   "cell_type": "code",
   "execution_count": 72,
   "id": "be63d2ff",
   "metadata": {},
   "outputs": [],
   "source": [
    "import os\n",
    "from dotenv import load_dotenv\n",
    "import google.generativeai as genai\n",
    "from IPython.display import display, clear_output\n",
    "import time\n",
    "\n",
    "load_dotenv()\n",
    "genai.configure(api_key=os.getenv(\"GOOGLE_API_KEY\"))\n",
    "\n",
    "model = genai.GenerativeModel(\"gemini-2.5-flash\")\n",
    "\n",
    "def ask_gemini_jupyter(prompt):\n",
    "    display_text = \"\"\n",
    "    display(display_text, display_id=True)\n",
    "    for chunk in model.generate_content(prompt, stream=True):\n",
    "        if chunk.text:\n",
    "            display_text += chunk.text\n",
    "            clear_output(wait=True)\n",
    "            display(display_text, display_id=True)\n",
    "            time.sleep(0.01)  # optional: smooth typing effect\n"
   ]
  },
  {
   "cell_type": "code",
   "execution_count": 73,
   "id": "f82ebffc",
   "metadata": {},
   "outputs": [
    {
     "data": {
      "text/plain": [
       "'Po, the titular \"Kung Fu Panda,\" is **Po Ping**, a giant panda who is the main protagonist of the *Kung Fu Panda* franchise. He is an extraordinary and unlikely hero whose journey from a clumsy, noodle-making fanboy to a legendary Kung Fu Master, Dragon Warrior, and ultimately, a Grand Master of Chi and Spiritual Leader, forms the heart of the story.\\n\\nHere\\'s a detailed breakdown of Po\\'s character:\\n\\n### 1. Origin & Early Life: The Noodle-Making Fanboy\\n\\n*   **Adopted Son:** Po was originally separated from his biological panda family during a massacre orchestrated by Lord Shen. He was found as a cub by **Mr. Ping**, a kind goose who owns a noodle restaurant in the Valley of Peace, and raised as his son.\\n*   **Humble Beginnings:** For most of his early life, Po worked in his father\\'s noodle shop, learning the family business. He was generally seen as awkward, overweight, and prone to breaking things.\\n*   **Secret Dream:** Despite his seemingly mundane life, Po harbored a passionate, secret love for Kung Fu. He idolized the legendary Furious Five (Tigress, Monkey, Crane, Viper, Mantis) and dreamed of fighting alongside them, despite having no martial arts training himself. His room was filled with Kung Fu posters and action figures.\\n\\n### 2. The Unexpected Dragon Warrior: Finding His Path (Kung Fu Panda 1)\\n\\n*   **The Prophecy:** Po\\'s life takes a dramatic turn when the ancient Grand Master Oogway declares that the Dragon Warrior, destined to defeat the formidable villain Tai Lung, will be chosen at a grand ceremony.\\n*   **Accidental Choice:** Through a series of improbable coincidences (driven by his desperate attempt to see the ceremony), Po literally falls into the arena and is pointed to by Oogway as the chosen one.\\n*   **Initial Rejection:** His selection is met with shock and disbelief by everyone, especially Master Shifu and the Furious Five, who see him as a clumsy, untrainable joke.\\n*   **Shifu\\'s Unique Training:** Master Shifu, initially despairing, discovers that Po\\'s intense love for food can be harnessed as a training motivator. Po\\'s \"training\" involves elaborate food-based obstacles and challenges, which inadvertently refine his natural agility, strength, and unique fighting style.\\n*   **Discovery of the Dragon Scroll:** Po confronts Tai Lung and, after a harrowing battle, realizes the true meaning of the Dragon Scroll: \"There is no secret ingredient... it\\'s just you.\" This empowers him to believe in himself.\\n*   **Mastery & Victory:** Po defeats Tai Lung using unconventional \"Panda Style\" techniques (like belly bouncing, butt slams, and his \"Wuxi Finger Hold\"), surprising everyone and fulfilling his destiny as the Dragon Warrior.\\n\\n### 3. Inner Peace & Self-Discovery (Kung Fu Panda 2)\\n\\n*   **Leading the Furious Five:** Po becomes the leader of the Furious Five, protecting the Valley of Peace.\\n*   **Confronting the Past:** The emergence of Lord Shen, a peacock warlord, forces Po to confront traumatic flashbacks and the truth about his biological parents.\\n*   **Finding Inner Peace:** Through guidance from a wise goat Soothsayer and his own perseverance, Po learns to achieve \"Inner Peace,\" an advanced form of spiritual and mental calm that allows him to control his chi and deflect Shen\\'s cannonballs.\\n*   **\"The Power of Nothingness\":** This new ability is a testament to his unique path – turning a weakness (his inability to block projectiles) into a strength by embracing stillness.\\n*   **Saving Kung Fu:** Po defeats Shen, not just saving the Valley but also \"saving\" Kung Fu from being extinguished by Shen\\'s modern weaponry.\\n\\n### 4. Grand Master of Chi & Teacher (Kung Fu Panda 3)\\n\\n*   **Becoming a Teacher:** Master Shifu promotes Po to the role of teacher, tasking him with training the Furious Five, a challenge Po initially struggles with.\\n*   **Reunion with Biological Father:** Po meets his biological father, Li Shan, and discovers a hidden village of pandas. He connects with his heritage and learns traditional panda ways.\\n*   **Mastering Chi:** To defeat Kai, a powerful spirit warrior who steals chi, Po must learn to master chi manipulation. His biological family and the pandas help him, realizing that their natural connection to life force is a form of chi.\\n*   **Sacrifice & Return:** Po sacrifices himself, taking Kai to the Spirit Realm, where he defeats him by overloading him with chi, proving himself a true Grand Master of Chi.\\n*   **New Role:** He returns as a revered master, now capable of healing and empowering others with chi.\\n\\n### 5. Spiritual Leader & Mentor (Kung Fu Panda 4)\\n\\n*   **New Path:** Po is tasked by Master Shifu to transition from the Dragon Warrior to the Spiritual Leader of the Valley of Peace and find a successor for the Dragon Warrior title.\\n*   **Reluctance & Growth:** He initially struggles with this new, less action-oriented role, finding it hard to let go of his identity as a fighter.\\n*   **Mentor Role:** He reluctantly takes on Zhen, a cunning fox bandit, as his protégé. Their journey together forces him to grow as a mentor, teaching not just martial arts but also wisdom and responsibility.\\n*   **Confronting The Chameleon:** He faces The Chameleon, a sorceress capable of shapeshifting and stealing Kung Fu masters\\' powers, once again relying on his unique blend of wit, unconventional fighting, and the strength of his allies.\\n*   **Embracing His Destiny:** By the end, Po fully embraces his new role as Spiritual Leader, understanding that his journey is one of continuous evolution and that true leadership means guiding others.\\n\\n### Key Personality Traits & Characteristics:\\n\\n*   **Enthusiastic & Optimistic:** Po approaches most situations with an infectious, if sometimes naive, enthusiasm.\\n*   **Kind-hearted & Loyal:** He genuinely cares for his friends, family (both adopted and biological), and the people of the Valley.\\n*   **Clumsy (Initially):** His physical awkwardness is a defining trait, but he eventually learns to incorporate it into his unique fighting style.\\n*   **Food-Loving:** His insatiable appetite for dumplings and noodles is a constant source of humor and even a tool for his training.\\n*   **Determined & Resilient:** Despite self-doubt, Po always finds the courage and strength to face challenges, often surprising himself and others.\\n*   **Humorous:** He has a knack for witty one-liners and physical comedy.\\n*   **Empathetic:** He often sees the good in others, even potential adversaries, and understands their motivations.\\n*   **Humble:** Despite his immense power and fame, he remains grounded and connected to his roots.\\n*   **Inquisitive:** He\\'s always eager to learn, whether it\\'s a new Kung Fu move, a philosophical lesson, or a new noodle recipe.\\n\\n### Kung Fu Style & Abilities:\\n\\n*   **\"Panda Style\":** Po\\'s fighting style is unconventional, utilizing his large physique to his advantage. It involves:\\n    *   **Belly Bounces:** Deflecting attacks and launching himself.\\n    *   **Butt Slams:** Powerful ground attacks.\\n    *   **Rolling & Tumbling:** Fast movement and dodging.\\n    *   **Bear Hugs & Grappling:** Using his size for close-quarters combat.\\n    *   **Unpredictability:** His moves often appear clumsy but are surprisingly effective.\\n*   **Wuxi Finger Hold:** His signature move from the first film, capable of sending opponents to the Spirit Realm (though he only uses it when absolutely necessary).\\n*   **Inner Peace:** The ability to find calm and focus amidst chaos, allowing him to deflect and control energy.\\n*   **Chi Manipulation:** In later films, he masters the ability to generate, control, and share chi for healing, energy blasts, and other spiritual feats.\\n*   **Exceptional Agility & Strength:** Despite his size, he possesses incredible agility, speed, and raw power when motivated.\\n*   **Adaptability:** Po\\'s greatest strength is his ability to adapt and learn, incorporating elements from other styles and making them his own.\\n\\nIn essence, Po is a celebration of the underdog, a character who proves that true heroism isn\\'t about being perfect or fitting a mold, but about believing in yourself, embracing your unique qualities, and always striving to be better. He inspires through his humor, his heart, and his unwavering belief in the power of \"you.\"'"
      ]
     },
     "metadata": {},
     "output_type": "display_data"
    }
   ],
   "source": [
    "ask_gemini_jupyter(\"who is kung fu panda in detail\")"
   ]
  },
  {
   "cell_type": "markdown",
   "id": "79a9e260",
   "metadata": {},
   "source": [
    "# Chat Model"
   ]
  },
  {
   "cell_type": "code",
   "execution_count": 78,
   "id": "5dae1d84",
   "metadata": {},
   "outputs": [],
   "source": [
    "from langchain_google_genai import ChatGoogleGenerativeAI\n",
    "from langchain.schema import SystemMessage,HumanMessage"
   ]
  },
  {
   "cell_type": "code",
   "execution_count": 75,
   "id": "97054c0f",
   "metadata": {},
   "outputs": [],
   "source": [
    "chatmodel=ChatGoogleGenerativeAI(model='gemini-2.5-flash')"
   ]
  },
  {
   "cell_type": "code",
   "execution_count": 79,
   "id": "11a0f601",
   "metadata": {},
   "outputs": [],
   "source": [
    "messages=[SystemMessage(content=\"You are a historian expert in the Kennedy Family\"),\n",
    "    HumanMessage(content=\"Tell me one curious thing about JFK\")\n",
    "]\n",
    "\n",
    "response=chatmodel.invoke(messages)"
   ]
  },
  {
   "cell_type": "code",
   "execution_count": 80,
   "id": "4abb011a",
   "metadata": {},
   "outputs": [
    {
     "name": "stdout",
     "output_type": "stream",
     "text": [
      "One curious thing about JFK, often debated among historians, involves his Pulitzer Prize-winning book, *Profiles in Courage*.\n",
      "\n",
      "While he was awarded the Pulitzer Prize for Biography in 1957 for the work, there has long been a quiet, yet persistent, debate about the true extent of his authorship. His close aide and speechwriter, Ted Sorensen, later admitted in his memoir that he had done \"a first draft of most of the chapters\" and \"helped choose the words of many of its sentences.\"\n",
      "\n",
      "While JFK certainly conceived the idea, contributed significantly to the themes, and did some writing (especially while recovering from back surgery), the degree to which Sorensen was the primary literary force behind the book is a fascinating historical footnote that subtly challenges the image of the purely self-made intellectual and highlights the often collaborative, and sometimes opaque, nature of political writing.\n"
     ]
    }
   ],
   "source": [
    "print(response.content)\n"
   ]
  },
  {
   "cell_type": "code",
   "execution_count": null,
   "id": "ada9a2b1",
   "metadata": {},
   "outputs": [],
   "source": []
  }
 ],
 "metadata": {
  "kernelspec": {
   "display_name": "venv",
   "language": "python",
   "name": "python3"
  },
  "language_info": {
   "codemirror_mode": {
    "name": "ipython",
    "version": 3
   },
   "file_extension": ".py",
   "mimetype": "text/x-python",
   "name": "python",
   "nbconvert_exporter": "python",
   "pygments_lexer": "ipython3",
   "version": "3.9.13"
  }
 },
 "nbformat": 4,
 "nbformat_minor": 5
}

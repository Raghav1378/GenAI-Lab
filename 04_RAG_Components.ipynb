{
 "cells": [
  {
   "cell_type": "code",
   "execution_count": 46,
   "id": "26c19619",
   "metadata": {},
   "outputs": [],
   "source": [
    "from dotenv import load_dotenv\n",
    "from langchain_google_genai import ChatGoogleGenerativeAI"
   ]
  },
  {
   "cell_type": "code",
   "execution_count": 47,
   "id": "f713612a",
   "metadata": {},
   "outputs": [
    {
     "data": {
      "text/plain": [
       "True"
      ]
     },
     "execution_count": 47,
     "metadata": {},
     "output_type": "execute_result"
    }
   ],
   "source": [
    "load_dotenv()"
   ]
  },
  {
   "cell_type": "code",
   "execution_count": 48,
   "id": "a655a755",
   "metadata": {},
   "outputs": [],
   "source": [
    "model=ChatGoogleGenerativeAI(model=\"gemini-2.5-flash\")"
   ]
  },
  {
   "cell_type": "code",
   "execution_count": 49,
   "id": "00253c26",
   "metadata": {},
   "outputs": [],
   "source": [
    "from langchain_community.document_loaders import TextLoader"
   ]
  },
  {
   "cell_type": "code",
   "execution_count": 50,
   "id": "237d4ee3",
   "metadata": {},
   "outputs": [
    {
     "name": "stdout",
     "output_type": "stream",
     "text": [
      "Loaded 1 documents using utf-8\n"
     ]
    }
   ],
   "source": [
    "from langchain_community.document_loaders import TextLoader\n",
    "\n",
    "# Try utf-8 first, fall back to latin-1 with replacement to avoid UnicodeDecodeError\n",
    "file_path = r\"C:\\Users\\91800\\Desktop\\Ml Ques 2.txt\"\n",
    "try:\n",
    "    loader = TextLoader(file_path, encoding=\"utf-8\")\n",
    "    loaded_data = loader.load()\n",
    "    print(f\"Loaded {len(loaded_data)} documents using utf-8\")\n",
    "except Exception as e:\n",
    "    print(f\"utf-8 failed: {e}. Trying latin-1 with replacement...\")\n",
    "    try:\n",
    "        loader = TextLoader(file_path, encoding=\"latin-1\", errors=\"replace\")\n",
    "        loaded_data = loader.load()\n",
    "        print(f\"Loaded {len(loaded_data)} documents using latin-1 (with replacement)\")\n",
    "    except Exception as e2:\n",
    "        raise RuntimeError(f\"Failed to load file with utf-8 and latin-1: {e2}\")"
   ]
  },
  {
   "cell_type": "code",
   "execution_count": 51,
   "id": "02ae0440",
   "metadata": {},
   "outputs": [],
   "source": [
    "loaded_data=loader.load()"
   ]
  },
  {
   "cell_type": "code",
   "execution_count": 52,
   "id": "f6a81caa",
   "metadata": {},
   "outputs": [
    {
     "data": {
      "text/plain": [
       "'Here’s a list of **100 machine learning (ML) interview questions** without explanations or levels:  \\n\\n---\\n\\n### ⚡️ **1. Basic Concepts**  \\n1. What is Machine Learning?  \\n2. Explain the difference between supervised, unsupervised, and reinforcement learning.  \\n3. What are the key applications of machine learning?  \\n4. Define training set, validation set, and test set.  \\n5. What is overfitting? How can it be prevented?  \\n6. What is underfitting? How do you avoid it?  \\n7. What is the difference between parametric and non-parametric models?  \\n8. Explain the concept of bias-variance tradeoff.  \\n9. What are features and labels in a dataset?  \\n10. What is the purpose of cross-validation?  \\n\\n---\\n\\n### ⚡️ **2. Data Preprocessing and Feature Engineering**  \\n11. Why is feature scaling necessary in ML?  \\n12. What is the difference between normalization and standardization?  \\n13. How do you handle missing values in a dataset?  \\n14. Explain one-hot encoding and when it is used.  \\n15. What is label encoding?  \\n16. What is the purpose of a ColumnTransformer?  \\n17. How do you handle categorical and numerical features in the same pipeline?  \\n18. What is PCA (Principal Component Analysis)?  \\n19. What is feature selection? Why is it important?  \\n20. How do you handle imbalanced datasets?  \\n\\n---\\n\\n### ⚡️ **3. Supervised Learning Algorithms**  \\n21. How does linear regression work?  \\n22. What is the cost function in linear regression?  \\n23. Explain the concept of gradient descent.  \\n24. What is the difference between Ridge and Lasso regression?  \\n25. What is logistic regression? When is it used?  \\n26. How does decision tree work?  \\n27. What is pruning in decision trees?  \\n28. What is the difference between Gini Impurity and Entropy?  \\n29. What is a random forest?  \\n30. How does SVM (Support Vector Machine) work?  \\n\\n---\\n\\n### ⚡️ **4. Unsupervised Learning Algorithms**  \\n31. What is clustering in machine learning?  \\n32. Explain K-means clustering.  \\n33. What is the Elbow Method?  \\n34. What is hierarchical clustering?  \\n35. Explain DBSCAN.  \\n36. What is dimensionality reduction?  \\n37. How does PCA reduce dimensions?  \\n38. What is t-SNE, and how is it different from PCA?  \\n39. Explain anomaly detection in unsupervised learning.  \\n40. What are latent variables?  \\n\\n---\\n\\n### ⚡️ **5. Model Evaluation and Metrics**  \\n41. What is accuracy?  \\n42. Explain precision, recall, and F1-score.  \\n43. What is ROC-AUC?  \\n44. What is a confusion matrix?  \\n45. Define sensitivity and specificity.  \\n46. What is the purpose of a ROC curve?  \\n47. Explain the difference between MAE, MSE, and RMSE.  \\n48. What is k-fold cross-validation?  \\n49. Explain stratified cross-validation.  \\n50. How do you handle class imbalance in classification?  \\n\\n---\\n\\n### ⚡️ **6. Ensemble Learning**  \\n51. What is ensemble learning?  \\n52. Explain bagging and its advantages.  \\n53. What is boosting?  \\n54. What is the difference between AdaBoost and Gradient Boosting?  \\n55. What is XGBoost?  \\n56. Explain stacking in ensemble learning.  \\n57. What is the difference between hard and soft voting?  \\n58. How does random forest reduce overfitting?  \\n59. What is LightGBM?  \\n60. What is CatBoost?  \\n\\n---\\n\\n### ⚡️ **7. Deep Learning and Neural Networks**  \\n61. What is a neural network?  \\n62. Explain the architecture of a feedforward neural network.  \\n63. What is an activation function?  \\n64. Explain backpropagation.  \\n65. What is the vanishing gradient problem?  \\n66. What are convolutional neural networks (CNNs)?  \\n67. What is the role of pooling layers in CNNs?  \\n68. What is a recurrent neural network (RNN)?  \\n69. Explain the difference between RNN and LSTM.  \\n70. What is dropout in neural networks?  \\n\\n---\\n\\n### ⚡️ **8. Natural Language Processing (NLP)**  \\n71. What is NLP?  \\n72. What is tokenization in NLP?  \\n73. What is the difference between stemming and lemmatization?  \\n74. Explain the concept of TF-IDF.  \\n75. What are word embeddings?  \\n76. What is Word2Vec?  \\n77. What is the attention mechanism in NLP?  \\n78. Explain BERT and its architecture.  \\n79. What are transformers in NLP?  \\n80. What is named entity recognition (NER)?  \\n\\n---\\n\\n### ⚡️ **9. Time Series and Forecasting**  \\n81. What is time series data?  \\n82. What are ARIMA models?  \\n83. Explain the difference between AR, MA, and ARIMA.  \\n84. What is seasonality in time series?  \\n85. What is exponential smoothing?  \\n86. How do you handle missing values in time series data?  \\n87. What is stationary data?  \\n88. Explain the concept of autocorrelation.  \\n89. How does LSTM handle time series data?  \\n90. What is Prophet?  \\n\\n---\\n\\n### ⚡️ **10. MLOps and Model Deployment**  \\n91. What is MLOps?  \\n92. Explain model versioning.  \\n93. What is model drift, and how can it be detected?  \\n94. What is a REST API in ML deployment?  \\n95. Explain the difference between batch and real-time inference.  \\n96. What are Docker and Kubernetes?  \\n97. How do you monitor model performance after deployment?  \\n98. What is CI/CD in MLOps?  \\n99. How do you automate model retraining?  \\n100. What is the difference between Flask and FastAPI?  \\n\\n---\\n\\nThis list covers a wide range of ML concepts and ensures thorough interview preparation. Let me know if you need detailed answers or explanations for any of these questions! 😊'"
      ]
     },
     "execution_count": 52,
     "metadata": {},
     "output_type": "execute_result"
    }
   ],
   "source": [
    "loaded_data[0].page_content"
   ]
  },
  {
   "cell_type": "code",
   "execution_count": 53,
   "id": "d717ee02",
   "metadata": {},
   "outputs": [],
   "source": [
    "from langchain_text_splitters import CharacterTextSplitter"
   ]
  },
  {
   "cell_type": "code",
   "execution_count": 54,
   "id": "72f1a8d6",
   "metadata": {},
   "outputs": [],
   "source": [
    "text_splitter=CharacterTextSplitter( separator=\"\\n\\n\",is_separator_regex=False,chunk_size=1100,chunk_overlap=200,length_function=len)"
   ]
  },
  {
   "cell_type": "code",
   "execution_count": 55,
   "id": "a9d4ce47",
   "metadata": {},
   "outputs": [],
   "source": [
    "texts=text_splitter.create_documents([loaded_data[0].page_content])"
   ]
  },
  {
   "cell_type": "code",
   "execution_count": 56,
   "id": "b5630048",
   "metadata": {},
   "outputs": [
    {
     "data": {
      "text/plain": [
       "Document(metadata={}, page_content='---\\n\\n### ⚡️ **3. Supervised Learning Algorithms**  \\n21. How does linear regression work?  \\n22. What is the cost function in linear regression?  \\n23. Explain the concept of gradient descent.  \\n24. What is the difference between Ridge and Lasso regression?  \\n25. What is logistic regression? When is it used?  \\n26. How does decision tree work?  \\n27. What is pruning in decision trees?  \\n28. What is the difference between Gini Impurity and Entropy?  \\n29. What is a random forest?  \\n30. How does SVM (Support Vector Machine) work?  \\n\\n---\\n\\n### ⚡️ **4. Unsupervised Learning Algorithms**  \\n31. What is clustering in machine learning?  \\n32. Explain K-means clustering.  \\n33. What is the Elbow Method?  \\n34. What is hierarchical clustering?  \\n35. Explain DBSCAN.  \\n36. What is dimensionality reduction?  \\n37. How does PCA reduce dimensions?  \\n38. What is t-SNE, and how is it different from PCA?  \\n39. Explain anomaly detection in unsupervised learning.  \\n40. What are latent variables?  \\n\\n---')"
      ]
     },
     "execution_count": 56,
     "metadata": {},
     "output_type": "execute_result"
    }
   ],
   "source": [
    "texts[2]"
   ]
  },
  {
   "cell_type": "markdown",
   "id": "b8146edf",
   "metadata": {},
   "source": [
    "# RecursiveCharacterTextSplitter"
   ]
  },
  {
   "cell_type": "code",
   "execution_count": null,
   "id": "8a25a99b",
   "metadata": {},
   "outputs": [],
   "source": []
  },
  {
   "cell_type": "code",
   "execution_count": null,
   "id": "e57f5bb4",
   "metadata": {},
   "outputs": [],
   "source": []
  },
  {
   "cell_type": "code",
   "execution_count": null,
   "id": "264b5e56",
   "metadata": {},
   "outputs": [],
   "source": []
  },
  {
   "cell_type": "code",
   "execution_count": null,
   "id": "e62da9c4",
   "metadata": {},
   "outputs": [],
   "source": []
  },
  {
   "cell_type": "code",
   "execution_count": null,
   "id": "c2aa735e",
   "metadata": {},
   "outputs": [],
   "source": []
  },
  {
   "cell_type": "code",
   "execution_count": null,
   "id": "5614e003",
   "metadata": {},
   "outputs": [],
   "source": []
  },
  {
   "cell_type": "code",
   "execution_count": null,
   "id": "ffc5b8cb",
   "metadata": {},
   "outputs": [],
   "source": []
  },
  {
   "cell_type": "code",
   "execution_count": null,
   "id": "c2beb3f2",
   "metadata": {},
   "outputs": [],
   "source": []
  },
  {
   "cell_type": "code",
   "execution_count": null,
   "id": "1c776409",
   "metadata": {},
   "outputs": [],
   "source": []
  },
  {
   "cell_type": "code",
   "execution_count": null,
   "id": "8bc73a4b",
   "metadata": {},
   "outputs": [],
   "source": []
  },
  {
   "cell_type": "code",
   "execution_count": null,
   "id": "6b6771e1",
   "metadata": {},
   "outputs": [],
   "source": []
  },
  {
   "cell_type": "code",
   "execution_count": null,
   "id": "3f10bd0b",
   "metadata": {},
   "outputs": [],
   "source": []
  },
  {
   "cell_type": "code",
   "execution_count": null,
   "id": "843f32e7",
   "metadata": {},
   "outputs": [],
   "source": []
  },
  {
   "cell_type": "code",
   "execution_count": null,
   "id": "93be8a05",
   "metadata": {},
   "outputs": [],
   "source": []
  },
  {
   "cell_type": "code",
   "execution_count": null,
   "id": "2d083b8b",
   "metadata": {},
   "outputs": [],
   "source": []
  },
  {
   "cell_type": "code",
   "execution_count": null,
   "id": "1533e186",
   "metadata": {},
   "outputs": [],
   "source": []
  },
  {
   "cell_type": "code",
   "execution_count": null,
   "id": "5e6f08f2",
   "metadata": {},
   "outputs": [],
   "source": []
  },
  {
   "cell_type": "code",
   "execution_count": null,
   "id": "b79816d1",
   "metadata": {},
   "outputs": [],
   "source": []
  },
  {
   "cell_type": "code",
   "execution_count": null,
   "id": "a138fb13",
   "metadata": {},
   "outputs": [],
   "source": []
  },
  {
   "cell_type": "code",
   "execution_count": null,
   "id": "3d9e9e60",
   "metadata": {},
   "outputs": [],
   "source": [
    "fssfdsfss"
   ]
  }
 ],
 "metadata": {
  "kernelspec": {
   "display_name": "venv",
   "language": "python",
   "name": "python3"
  },
  "language_info": {
   "codemirror_mode": {
    "name": "ipython",
    "version": 3
   },
   "file_extension": ".py",
   "mimetype": "text/x-python",
   "name": "python",
   "nbconvert_exporter": "python",
   "pygments_lexer": "ipython3",
   "version": "3.9.13"
  }
 },
 "nbformat": 4,
 "nbformat_minor": 5
}

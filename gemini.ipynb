{
 "cells": [
  {
   "cell_type": "code",
   "execution_count": 32,
   "id": "b8014858",
   "metadata": {},
   "outputs": [
    {
     "data": {
      "text/plain": [
       "True"
      ]
     },
     "execution_count": 32,
     "metadata": {},
     "output_type": "execute_result"
    }
   ],
   "source": [
    "from dotenv import load_dotenv\n",
    "from langchain_core.prompts import ChatPromptTemplate,ChatMessagePromptTemplate,SystemMessagePromptTemplate\n",
    "from langchain_google_genai import ChatGoogleGenerativeAI\n",
    "from langchain_chroma import Chroma\n",
    "from langchain_community.vectorstores import VectorStore\n",
    "from langchain_google_genai import GoogleGenerativeAIEmbeddings\n",
    "from langchain_text_splitters import RecursiveCharacterTextSplitter\n",
    "from langchain_core.documents import Document\n",
    "from langchain_community.document_loaders import TextLoader\n",
    "from langchain_core.output_parsers import StrOutputParser\n",
    "load_dotenv()\n"
   ]
  },
  {
   "cell_type": "code",
   "execution_count": 33,
   "id": "19270915",
   "metadata": {},
   "outputs": [
    {
     "name": "stdout",
     "output_type": "stream",
     "text": [
      "Loaded 1 documents using utf-8\n",
      "--- Document 1 ---\n",
      "Mars is the fourth planet from the Sun and the second-smallest planet in the Solar System, being larger than only Mercury.\n",
      "Mars is often called the 'Red Planet' because the iron oxide prevalent on its surface gives it a reddish appearance.\n",
      "The atmosphere of Mars is very thin, composed mainly of carbon dioxide (95.32%), with smaller amounts of nitrogen and argon.\n",
      "Mars has two small, irregularly shaped moons, Phobos and Deimos. They are thought to be captured asteroids.\n",
      "A day on Mars (a 'sol') is slightly longer than an Earth day, lasting 24.6 hours. A Martian year is significantly longer, lasting 687 Earth days.\n",
      "Mars has the largest volcano in the Solar System, Olympus Mons, and the largest canyon, Valles Marineris.\n",
      "The first successful Mars flyby was NASA's Mariner 4 mission in 1965. The first rovers to land, Sojourner, Spirit, and Opportunity, arrived much later.\n",
      "Liquid water cannot exist on the surface of Mars long-term due to its low atmospheric pressure, but scientists believe larg\n",
      "\n"
     ]
    }
   ],
   "source": [
    "from langchain_community.document_loaders import TextLoader\n",
    "\n",
    "file_path = r\"C:\\Users\\91800\\Desktop\\GENAI UDEMY\\txt_files\\gemini.txt\"\n",
    "try:\n",
    "    loader = TextLoader(file_path, encoding=\"utf-8\")\n",
    "    data = loader.load()\n",
    "    print(f\"Loaded {len(data)} documents using utf-8\")\n",
    "except UnicodeDecodeError as e:\n",
    "    print(f\"utf-8 UnicodeDecodeError: {e}; trying latin-1 with replacement\")\n",
    "    loader = TextLoader(file_path, encoding=\"latin-1\", errors=\"replace\")\n",
    "    data = loader.load()\n",
    "    print(f\"Loaded {len(data)} documents using latin-1 (with replacement)\")\n",
    "except Exception as e:\n",
    "    print(f\"Error loading file: {e}\")\n",
    "\n",
    "# preview\n",
    "if isinstance(data, list):\n",
    "    for i, doc in enumerate(data, 1):\n",
    "        content = getattr(doc, \"page_content\", None) or getattr(doc, \"content\", None) or str(doc)\n",
    "        print(f\"--- Document {i} ---\")\n",
    "        print(content[:1000])\n",
    "        print()\n",
    "else:\n",
    "    content = getattr(data, \"page_content\", None) or getattr(data, \"content\", None) or str(data)\n",
    "    print(content[:1000])\n"
   ]
  },
  {
   "cell_type": "markdown",
   "id": "a2e45bef",
   "metadata": {},
   "source": [
    "# After we have loaded the data we are going to split this data using the data splitter \n"
   ]
  },
  {
   "cell_type": "code",
   "execution_count": 34,
   "id": "d949cd7a",
   "metadata": {},
   "outputs": [],
   "source": [
    "recursive_spliiter=RecursiveCharacterTextSplitter(chunk_size=512,chunk_overlap=40)"
   ]
  },
  {
   "cell_type": "code",
   "execution_count": 35,
   "id": "83bb3b03",
   "metadata": {},
   "outputs": [],
   "source": [
    "documents=recursive_spliiter.split_documents(data)"
   ]
  },
  {
   "cell_type": "code",
   "execution_count": 36,
   "id": "3dfa8a6d",
   "metadata": {},
   "outputs": [
    {
     "data": {
      "text/plain": [
       "3"
      ]
     },
     "execution_count": 36,
     "metadata": {},
     "output_type": "execute_result"
    }
   ],
   "source": [
    "len(documents)"
   ]
  },
  {
   "cell_type": "markdown",
   "id": "140ef85a",
   "metadata": {},
   "source": [
    "# Now once we have splitted the data and all it is ready for the Embeddings"
   ]
  },
  {
   "cell_type": "code",
   "execution_count": 37,
   "id": "8bcb61ac",
   "metadata": {},
   "outputs": [],
   "source": [
    "import os\n",
    "from dotenv import load_dotenv\n",
    "embedding_model=GoogleGenerativeAIEmbeddings(model=\"models/gemini-embedding-001\")\n",
    "\n",
    "from langchain_community.embeddings import HuggingFaceEmbeddings\n",
    "embedding_model2 = HuggingFaceEmbeddings(model_name=\"all-MiniLM-L6-v2\")"
   ]
  },
  {
   "cell_type": "code",
   "execution_count": 38,
   "id": "824b1e06",
   "metadata": {},
   "outputs": [],
   "source": [
    "vectorStore = Chroma.from_documents(\n",
    "    documents=documents, \n",
    "    embedding=embedding_model2\n",
    ")"
   ]
  },
  {
   "cell_type": "markdown",
   "id": "d49c6b65",
   "metadata": {},
   "source": [
    "# Now we are going to store the embedding of the model into vector database for the fast retriveal "
   ]
  },
  {
   "cell_type": "code",
   "execution_count": 39,
   "id": "c56dfd23",
   "metadata": {},
   "outputs": [],
   "source": [
    "from langchain_chroma import Chroma"
   ]
  },
  {
   "cell_type": "code",
   "execution_count": 40,
   "id": "87698dd7",
   "metadata": {},
   "outputs": [],
   "source": [
    "retriever = vectorStore.as_retriever(search_kwargs={\"k\": 1})"
   ]
  },
  {
   "cell_type": "code",
   "execution_count": 41,
   "id": "a7d21b1e",
   "metadata": {},
   "outputs": [
    {
     "data": {
      "text/plain": [
       "[Document(id='fe8b0c70-2b8f-47d2-bace-d91d5c66dfdc', metadata={'source': 'C:\\\\Users\\\\91800\\\\Desktop\\\\GENAI UDEMY\\\\txt_files\\\\gemini.txt'}, page_content=\"Mars is the fourth planet from the Sun and the second-smallest planet in the Solar System, being larger than only Mercury.\\nMars is often called the 'Red Planet' because the iron oxide prevalent on its surface gives it a reddish appearance.\\nThe atmosphere of Mars is very thin, composed mainly of carbon dioxide (95.32%), with smaller amounts of nitrogen and argon.\\nMars has two small, irregularly shaped moons, Phobos and Deimos. They are thought to be captured asteroids.\")]"
      ]
     },
     "execution_count": 41,
     "metadata": {},
     "output_type": "execute_result"
    }
   ],
   "source": [
    "retriever.invoke(\"Why is Mars called the Red Planet?\")"
   ]
  },
  {
   "cell_type": "code",
   "execution_count": 42,
   "id": "75010f7e",
   "metadata": {},
   "outputs": [
    {
     "name": "stdout",
     "output_type": "stream",
     "text": [
      "[Document(id='fe8b0c70-2b8f-47d2-bace-d91d5c66dfdc', metadata={'source': 'C:\\\\Users\\\\91800\\\\Desktop\\\\GENAI UDEMY\\\\txt_files\\\\gemini.txt'}, page_content=\"Mars is the fourth planet from the Sun and the second-smallest planet in the Solar System, being larger than only Mercury.\\nMars is often called the 'Red Planet' because the iron oxide prevalent on its surface gives it a reddish appearance.\\nThe atmosphere of Mars is very thin, composed mainly of carbon dioxide (95.32%), with smaller amounts of nitrogen and argon.\\nMars has two small, irregularly shaped moons, Phobos and Deimos. They are thought to be captured asteroids.\")]\n"
     ]
    }
   ],
   "source": [
    "retrieved_docs = retriever.invoke(\"Why is Mars called the Red Planet?\")\n",
    "print(retrieved_docs)"
   ]
  },
  {
   "cell_type": "code",
   "execution_count": null,
   "id": "42495244",
   "metadata": {},
   "outputs": [],
   "source": []
  }
 ],
 "metadata": {
  "kernelspec": {
   "display_name": "venv",
   "language": "python",
   "name": "python3"
  },
  "language_info": {
   "codemirror_mode": {
    "name": "ipython",
    "version": 3
   },
   "file_extension": ".py",
   "mimetype": "text/x-python",
   "name": "python",
   "nbconvert_exporter": "python",
   "pygments_lexer": "ipython3",
   "version": "3.9.13"
  }
 },
 "nbformat": 4,
 "nbformat_minor": 5
}

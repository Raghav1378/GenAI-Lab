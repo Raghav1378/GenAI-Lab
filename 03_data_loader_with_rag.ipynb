{
 "cells": [
  {
   "cell_type": "code",
   "execution_count": 4,
   "id": "8da29e3e",
   "metadata": {},
   "outputs": [
    {
     "data": {
      "text/plain": [
       "True"
      ]
     },
     "execution_count": 4,
     "metadata": {},
     "output_type": "execute_result"
    }
   ],
   "source": [
    "from dotenv import load_dotenv\n",
    "from langchain_google_genai import ChatGoogleGenerativeAI\n",
    "from langchain_core.messages import HumanMessage,SystemMessage\n",
    "load_dotenv()"
   ]
  },
  {
   "cell_type": "code",
   "execution_count": 2,
   "id": "41b60904",
   "metadata": {},
   "outputs": [],
   "source": [
    "model=ChatGoogleGenerativeAI(model='gemini-2.5-flash')"
   ]
  },
  {
   "cell_type": "code",
   "execution_count": 5,
   "id": "675ec8c6",
   "metadata": {},
   "outputs": [],
   "source": [
    "messages=[(\"system\",\"You are a helpful assistant\"),(\"human\",\"Tell me about KungFuPanda\")]"
   ]
  },
  {
   "cell_type": "code",
   "execution_count": 9,
   "id": "81ad541c",
   "metadata": {},
   "outputs": [
    {
     "name": "stdout",
     "output_type": "stream",
     "text": [
      "('content', '**Kung Fu Panda** is a highly successful and beloved animated franchise created by DreamWorks Animation. It blends martial arts action, comedy, and heartwarming storytelling, set in a stylized ancient China populated by anthropomorphic animals.\\n\\nHere\\'s a breakdown of what makes Kung Fu Panda so special:\\n\\n1.  **The Protagonist: Po**\\n    *   **Who he is:** Po (voiced by the inimitable Jack Black) is a clumsy, overweight, noodle-loving panda who works in his goose father\\'s noodle shop. He\\'s an avid fan of kung fu, dreaming of fighting alongside the legendary Furious Five, but feels utterly unqualified.\\n    *   **His Journey:** Through a twist of fate, he is unexpectedly chosen as the prophesied \"Dragon Warrior.\" This leads to a hilarious and challenging journey of self-discovery, where he must overcome his physical limitations, self-doubt, and the skepticism of his masters and idols to become a true kung fu master. His training involves learning to harness his unique physique and love for food into his fighting style.\\n\\n2.  **The World and Setting:**\\n    *   **Ancient China:** The films are set in a beautifully rendered, vibrant version of ancient China, filled with stunning landscapes, majestic temples, and bustling villages.\\n    *   **Anthropomorphic Animals:** The characters are all animals, each representing various species with their own kung fu styles and personalities.\\n\\n3.  **Key Characters:**\\n    *   **Master Shifu (voiced by Dustin Hoffman):** A wise, often exasperated, but ultimately caring red panda master who trains Po and the Furious Five. His journey often involves learning to adapt his teaching methods.\\n    *   **The Furious Five:** The legendary masters of kung fu whom Po idolizes:\\n        *   **Tigress (voiced by Angelina Jolie):** A strong, disciplined, and fierce tiger.\\n        *   **Monkey (voiced by Jackie Chan):** A playful and agile golden langur.\\n        *   **Mantis (voiced by Seth Rogen):** A small but incredibly fast and strong mantis.\\n        *   **Viper (voiced by Lucy Liu):** A graceful and compassionate snake, who fights without fangs.\\n        *   **Crane (voiced by David Cross):** A strategic and elegant crane.\\n    *   **Mr. Ping (voiced by James Hong):** Po\\'s adoptive goose father, who owns a noodle shop and is a constant source of unconditional love and accidental wisdom.\\n    *   **Villains:** The franchise features memorable and formidable antagonists, each with their own complex motivations:\\n        *   **Tai Lung (voiced by Ian McShane):** A powerful snow leopard and Shifu\\'s former student, consumed by bitterness.\\n        *   **Lord Shen (voiced by Gary Oldman):** A cunning and dangerous peacock, master of weaponry, who seeks to destroy kung fu.\\n        *   **Kai (voiced by J.K. Simmons):** A formidable spirit warrior, a yak, who steals the chi of kung fu masters.\\n\\n4.  **Themes:**\\n    *   **Self-Belief and Self-Acceptance:** The core message is about believing in yourself and embracing your unique qualities, rather than trying to be someone you\\'re not.\\n    *   **Finding Your Inner Strength:** Po\\'s journey is about discovering the power within him, which isn\\'t just physical, but also mental and spiritual.\\n    *   **Destiny vs. Choice:** The films explore whether Po was truly chosen or if he chose his destiny through his actions and perseverance.\\n    *   **Family and Friendship:** The importance of bonds, both biological and found, is a recurring theme.\\n    *   **Overcoming Adversity:** Facing challenges, both internal and external, and growing from them.\\n\\n5.  **Animation and Action:**\\n    *   **Stunning Visuals:** The animation is consistently breathtaking, drawing inspiration from traditional Chinese art, calligraphy, and martial arts films.\\n    *   **Dynamic Kung Fu:** The action sequences are incredibly well-choreographed, fluid, and exciting, showcasing the unique fighting styles of each character.\\n\\n6.  **Humor and Heart:**\\n    *   **Comedy:** Jack Black\\'s performance as Po is a highlight, blending slapstick, witty dialogue, and an infectious enthusiasm. The humor is accessible to all ages.\\n    *   **Emotional Depth:** Beyond the laughs and action, the films have genuine emotional resonance, exploring themes of belonging, purpose, and overcoming personal struggles.\\n\\n7.  **The Franchise:**\\n    *   **Main Films:**\\n        *   *Kung Fu Panda* (2008)\\n        *   *Kung Fu Panda 2* (2011) - Often considered a high point for its emotional depth and villain.\\n        *   *Kung Fu Panda 3* (2016)\\n        *   *Kung Fu Panda 4* (2024)\\n    *   **TV Series:**\\n        *   *Kung Fu Panda: Legends of Awesomeness* (Nickelodeon)\\n        *   *Kung Fu Panda: The Paws of Destiny* (Amazon Prime Video)\\n        *   *Kung Fu Panda: The Dragon Knight* (Netflix)\\n    *   **Short Films/Specials:** *Secrets of the Furious Five*, *Secrets of the Masters*, *Secrets of the Scroll*, *Kung Fu Panda Holiday*.\\n    *   **Video Games and Merchandise:** A wide range of tie-in products.\\n\\nIn essence, Kung Fu Panda is a vibrant, funny, and deeply moving saga that has captivated audiences worldwide with its blend of martial arts spectacle, memorable characters, and powerful messages. It\\'s a story about an underdog who proves that true power comes from within.')('additional_kwargs', {})('response_metadata', {'prompt_feedback': {'block_reason': 0, 'safety_ratings': []}, 'finish_reason': 'STOP', 'model_name': 'gemini-2.5-flash', 'safety_ratings': []})('type', 'ai')('name', None)('id', 'run--af17e7da-242e-4877-afc4-181be2280c99-0')('example', False)('tool_calls', [])('invalid_tool_calls', [])('usage_metadata', {'input_tokens': 13, 'output_tokens': 2761, 'total_tokens': 2774, 'input_token_details': {'cache_read': 0}, 'output_token_details': {'reasoning': 1542}})"
     ]
    }
   ],
   "source": [
    "response=model.invoke(messages)\n",
    "for chunks in response:\n",
    "    print(chunks,end=\"\",flush=True)"
   ]
  },
  {
   "cell_type": "code",
   "execution_count": 14,
   "id": "96a3b3b9",
   "metadata": {},
   "outputs": [],
   "source": [
    "from langchain_community.document_loaders import TextLoader"
   ]
  },
  {
   "cell_type": "code",
   "execution_count": 19,
   "id": "bacad4c6",
   "metadata": {},
   "outputs": [],
   "source": [
    "loader=TextLoader(r\"C:\\Users\\91800\\Desktop\\BETTER REFINED FORM OF 100dauys.txt\", encoding='utf-8')\n",
    "loaded_data=loader.load()"
   ]
  },
  {
   "cell_type": "code",
   "execution_count": 22,
   "id": "db211918",
   "metadata": {},
   "outputs": [],
   "source": [
    "# CSV LOADER\n",
    "from lang"
   ]
  },
  {
   "cell_type": "code",
   "execution_count": 30,
   "id": "c6311e88",
   "metadata": {},
   "outputs": [],
   "source": [
    "! pip install unstructured"
   ]
  },
  {
   "cell_type": "code",
   "execution_count": null,
   "id": "566ec466",
   "metadata": {},
   "outputs": [],
   "source": [
    "# HTML DATA"
   ]
  },
  {
   "cell_type": "code",
   "execution_count": 32,
   "id": "59c64e6b",
   "metadata": {},
   "outputs": [],
   "source": [
    "from langchain_community.document_loaders import UnstructuredHTMLLoader"
   ]
  },
  {
   "cell_type": "code",
   "execution_count": null,
   "id": "e1abd077",
   "metadata": {},
   "outputs": [],
   "source": [
    "# Since i dont have any html data so i kept it unchaned data\n",
    "\n",
    "loader=UnstructuredHTMLLoader()\n",
    "loaded_data=loader.load()"
   ]
  },
  {
   "cell_type": "markdown",
   "id": "ede58f6e",
   "metadata": {},
   "source": [
    "# PDF DATA"
   ]
  },
  {
   "cell_type": "code",
   "execution_count": 39,
   "id": "774e3cf7",
   "metadata": {},
   "outputs": [],
   "source": [
    "from langchain_community.document_loaders import PyPDFLoader"
   ]
  },
  {
   "cell_type": "code",
   "execution_count": 43,
   "id": "2420bf89",
   "metadata": {},
   "outputs": [],
   "source": [
    "loader=PyPDFLoader(r\"C:\\Users\\91800\\Downloads\\Raghav Ramani Resume.pdf\")\n",
    "data=loader.load()\n"
   ]
  },
  {
   "cell_type": "code",
   "execution_count": 45,
   "id": "48b2848e",
   "metadata": {},
   "outputs": [
    {
     "name": "stdout",
     "output_type": "stream",
     "text": [
      "Raghav Ramani\n",
      "Aspiring Data Analyst\n",
      "raghavramani2004@gmail.com — +91-8003708227 — Jaipur, India\n",
      "EDUCATION\n",
      "JECRC University, Jaipur\n",
      "B.Tech in Computer Science 08/2022 – Present\n",
      "Relevant Coursework: Introduction to Machine Learning & AI\n",
      "WORK EXPERIENCE\n",
      "Web Development Intern Ace Web Experts\n",
      "05/2023 – 09/2023\n",
      "• Developed and maintained web applications using HTML, CSS, JavaScript, and React.\n",
      "• Optimized website performance, reducing load times by 25%.\n",
      "• Collaborated with cross-functional teams to gather and analyze user requirements.\n",
      "• Utilized SQL for database management and backend integration.\n",
      "Java Instructor Accio Job\n",
      "08/2023 – 02/2024\n",
      "• Designed and delivered Java programming courses for over 100 students.\n",
      "• Created comprehensive teaching materials, including coding exercises and projects.\n",
      "• Conducted assessments and provided personalized feedback.\n",
      "Hackathon Participant JECRC University\n",
      "• Participated in multiple hackathons, showcasing problem-solving abilities and collaboration skills.\n",
      "• Developed creative solutions under tight deadlines.\n",
      "• Demonstrated proficiency in HTML, CSS, and JavaScript through website development.\n",
      "PERSONAL PROJECTS\n",
      "Suraksha Nivesh: Stock Market Analysis\n",
      "• Led a team project focused on identifying fraudulent activities in the stock market.\n",
      "• Conducted in-depth studies and implemented analytical strategies.\n",
      "• Reduced false positives by 30%, enhancing scam detection algorithms.\n",
      "• Presented findings at a startup competition, earning recognition.\n",
      "SKILLS\n",
      "Programming Languages: Python, SQL, R, Java\n",
      "Web Development: HTML, CSS, JavaScript, React\n",
      "Databases: MySQL\n",
      "Data Analysis Tools: Pandas, NumPy, Matplotlib\n",
      "Soft Skills: Leadership, Team Management, Communication, Problem-Solving, Adaptability, Analytical\n",
      "Thinking, Consistency, Discipline, Focus, Self-Motivation\n",
      "ACHIEVEMENTS\n",
      "Presented “Suraksha Nivesh”, a groundbreaking project\n",
      "focusing on stock market analysis, at a startup\n",
      "competition, garnering acclaim for innovative\n",
      "approaches to financial security and fraud detection\n",
      "strategies.\n",
      "LANGUAGES\n",
      "English, Hindi Full Professional Proficiency\n",
      "1\n",
      "----\n"
     ]
    }
   ],
   "source": [
    "for page in data:\n",
    "    print(page.page_content)\n",
    "    print(\"----\")"
   ]
  },
  {
   "cell_type": "markdown",
   "id": "bec6bd65",
   "metadata": {},
   "source": [
    "# Wikipedia Data Loader\n"
   ]
  },
  {
   "cell_type": "code",
   "execution_count": 1,
   "id": "258521ab",
   "metadata": {},
   "outputs": [],
   "source": [
    "from langchain_community.document_loaders import WikipediaLoader"
   ]
  },
  {
   "cell_type": "code",
   "execution_count": 3,
   "id": "a449f863",
   "metadata": {},
   "outputs": [],
   "source": [
    "loader=WikipediaLoader(query=\"Itachi Uchiha\",load_max_docs=2)\n",
    "loaded_data=loader.load()[0].page_content"
   ]
  },
  {
   "cell_type": "code",
   "execution_count": 4,
   "id": "4c93a742",
   "metadata": {},
   "outputs": [
    {
     "data": {
      "text/plain": [
       "'Itachi Uchiha (うちは イタチ, Uchiha Itachi) is a character in the Naruto manga and anime series created by Masashi Kishimoto. Itachi is the older brother of Sasuke Uchiha and is responsible for killing all the members of their clan, sparing only Sasuke. He appears as an antagonist working with the criminal organization Akatsuki and serves as a primary adversary to Sasuke throughout the series.\\nDuring the second part of the manga, Itachi becomes involved in Akatsuki\\'s attacks on ninja possessing tailed-beast creatures until facing Sasuke in a one-on-one battle. Although Itachi perishes during the final duel, it is later revealed that he had been ordered by Konoha leadership to eliminate his clan to prevent a coup d\\'état, accepting the mission in exchange for Sasuke\\'s safety. He is later resurrected during the Fourth Great Ninja War before his soul finally departs after helping to stop Kabuto Yakushi.\\nItachi is a playable character in most of the video games from the series. The character has been popular with readers of the manga and has been positively received by critics, who consider him one of the best characters in the series. His gradual character development and the revelations about his past have received particular praise, and his fights have been noted as among the best in the series. Numerous types of merchandise have been released in Itachi\\'s likeness, including keychains, plush dolls, and figurines.\\n\\n\\n== Creation and design ==\\nWhen Itachi Uchiha is first mentioned by Sasuke Uchiha in the manga, Masashi Kishimoto had not planned out the character\\'s backstory. The only idea he had was to attribute to Itachi some violent action that would have Sasuke wanting to kill him. However, when Itachi was introduced, Kishimoto had the idea to make Itachi Konoha\\'s secret agent who killed his clan under their orders. Itachi was originally conceived as the leader of Konoha\\'s Special Assassination and Tactical Squad called the \"Anbu\", dubbed the Itachi Squad (イタチ隊, Itachi-tai), which would have been a 70-man group divided into four teams, specializing in assassination and other illicit operations. However, this idea was scrapped in favour of the current Itachi working for the Akatsuki. From all the Akatsuki characters Kishimoto designed, Itachi is his favorite based on his backstory.\\nItachi\\'s Japanese voice actor, Hideo Ishikawa, often talked with Sasuke\\'s Japanese voice actor, Noriaki Sugiyama, about their characters. When the two characters first confronted each other, both Ishikawa and Sugiyama found Itachi\\'s massacre of the Uchiha clan hard to believe and started to read the Naruto manga to see if Itachi was hiding something. After Itachi\\'s death, the two actors noted that in the end Itachi served as a good older brother to Sasuke. English voice actor Crispin Freeman was pleased with voicing Itachi regardless of how many times he revisited the series.\\n\\n\\n== Appearances ==\\n\\n\\n=== In Naruto ===\\n\\nItachi is a member of the Uchiha Clan from the village of Konohagakure and the elder brother of Sasuke Uchiha. He grew up as the child prodigy of the Uchiha clan, establishing milestones for not only Sasuke, but also for future Uchiha to live up to. His early childhood was marred by war, the violence of which caused him to seek peace at any cost. Upon learning that his clan was planning a coup d\\'état to take control of Konoha, after his clan was accused of attacking the village with the Nine-Tails, Itachi provides Konoha with intelligence on his clan\\'s actions during his two years as a member of the Anbu. Over time, Itachi distances himself from his clan, as some clan members believed he murdered his best friend, Shisui Uchiha, to gain the Mangekyo Sharingan (万華鏡写輪眼, Mangekyo Sharingan; lit. \"Kaleidoscope Copy Wheel Eye\").\\nIn reality, as Shisui possesses the ability to subliminally manipulate others and shares Itachi\\'s love for the village, he intended to use his gift on the Uchiha clan leader to stop the coup d\\'état. However, during an ambush, '"
      ]
     },
     "execution_count": 4,
     "metadata": {},
     "output_type": "execute_result"
    }
   ],
   "source": [
    "loaded_data"
   ]
  },
  {
   "cell_type": "markdown",
   "id": "9a032a58",
   "metadata": {},
   "source": [
    "# Directly pass the data and use it as contectloader"
   ]
  },
  {
   "cell_type": "code",
   "execution_count": 6,
   "id": "a8f69632",
   "metadata": {},
   "outputs": [],
   "source": [
    "\n",
    "loader=WikipediaLoader('query=name,load_max_docs=2')\n",
    "loaded_data=loader.load()[0].page_content"
   ]
  },
  {
   "cell_type": "code",
   "execution_count": 7,
   "id": "28a63bd8",
   "metadata": {},
   "outputs": [],
   "source": [
    "from langchain_core.prompts import ChatPromptTemplate\n",
    "\n",
    "chat_template=ChatPromptTemplate.from_messages(\n",
    "    [\n",
    "        (\"human\",\"Answer this {question},here is some {context}\")\n",
    "    ]\n",
    ")\n",
    "messages=chat_template.format_messages(name='Itachi uchiha',question=\"Why was itachi respected by manyone\",context=loaded_data)"
   ]
  },
  {
   "cell_type": "code",
   "execution_count": null,
   "id": "52038d99",
   "metadata": {},
   "outputs": [],
   "source": []
  },
  {
   "cell_type": "code",
   "execution_count": null,
   "id": "923c734d",
   "metadata": {},
   "outputs": [],
   "source": []
  }
 ],
 "metadata": {
  "kernelspec": {
   "display_name": "venv",
   "language": "python",
   "name": "python3"
  },
  "language_info": {
   "codemirror_mode": {
    "name": "ipython",
    "version": 3
   },
   "file_extension": ".py",
   "mimetype": "text/x-python",
   "name": "python",
   "nbconvert_exporter": "python",
   "pygments_lexer": "ipython3",
   "version": "3.9.13"
  }
 },
 "nbformat": 4,
 "nbformat_minor": 5
}

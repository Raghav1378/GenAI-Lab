{
 "cells": [
  {
   "cell_type": "code",
   "execution_count": 6,
   "id": "5a14ab6a",
   "metadata": {},
   "outputs": [
    {
     "data": {
      "text/plain": [
       "True"
      ]
     },
     "execution_count": 6,
     "metadata": {},
     "output_type": "execute_result"
    }
   ],
   "source": [
    "import os \n",
    "from dotenv import load_dotenv\n",
    "from langchain_google_genai import ChatGoogleGenerativeAI\n",
    "from langchain_google_genai import GoogleGenerativeAIEmbeddings\n",
    "from langchain_community.vectorstores import FAISS\n",
    "from langchain_text_splitters import CharacterTextSplitter\n",
    "from langchain_chroma import Chroma\n",
    "from langchain_community.document_loaders import TextLoader\n",
    "load_dotenv()"
   ]
  },
  {
   "cell_type": "code",
   "execution_count": 3,
   "id": "87b5f015",
   "metadata": {},
   "outputs": [],
   "source": [
    "model=ChatGoogleGenerativeAI(model=\"gemini-2.5-flash\")"
   ]
  },
  {
   "cell_type": "code",
   "execution_count": null,
   "id": "0bdef4fa",
   "metadata": {},
   "outputs": [
    {
     "name": "stdout",
     "output_type": "stream",
     "text": [
      "Loaded 1 documents using utf-8\n",
      "--- Document 1 ---\n",
      "Madam Speaker, Madam Vice President, our First Lady and Second Gentleman. Members of Congress and the Cabinet. Justices of the Supreme Court. My fellow Americans.\n",
      "\n",
      "Last year COVID-19 kept us apart. This year we are finally together again.\n",
      "\n",
      "Tonight, we meet as Democrats Republicans and Independents. But most importantly as Americans.\n",
      "\n",
      "With a duty to one another to the American people to the Constitution.\n",
      "\n",
      "And with an unbending resolve that freedom will always triumph over tyranny.\n",
      "\n",
      "Six days ago, Russia’s Vladimir Putin sought to shake the foundations of the free world thinking he could make it bend to his menacing ways. But he badly miscalculated.\n",
      "\n",
      "He thought he could roll into Ukraine and the world would roll over. Instead he met a wall of strength he never imagined.\n",
      "\n",
      "He met the Ukrainian people.\n",
      "\n",
      "From President Zelenskyy to every Ukrainian, their fearlessness, their courage, their determination, inspires the world.\n",
      "\n",
      "Groups of citizens blocking tanks with their bodies. Everyone from st\n",
      "\n"
     ]
    }
   ],
   "source": [
    "from langchain_community.document_loaders import TextLoader\n",
    "\n",
    "\n",
    "# Try utf-8 first, fall back to latin-1 with replacement to avoid UnicodeDecodeError\n",
    "try:\n",
    "    loader = TextLoader(file_path, encoding=\"utf-8\")\n",
    "    loaded_data = loader.load()\n",
    "    print(f\"Loaded {len(loaded_data)} documents using utf-8\")\n",
    "except UnicodeDecodeError as e:\n",
    "    print(f\"utf-8 UnicodeDecodeError: {e}; trying latin-1 with replacement\")\n",
    "    loader = TextLoader(file_path, encoding=\"latin-1\", errors=\"replace\")\n",
    "    loaded_data = loader.load()\n",
    "    print(f\"Loaded {len(loaded_data)} documents using latin-1 (with replacement)\")\n",
    "except Exception as e:\n",
    "    print(f\"Error loading with utf-8: {e}; trying latin-1 with replacement\")\n",
    "    try:\n",
    "        loader = TextLoader(file_path, encoding=\"latin-1\", errors=\"replace\")\n",
    "        loaded_data = loader.load()\n",
    "        print(f\"Loaded {len(loaded_data)} documents using latin-1 (with replacement)\")\n",
    "    except Exception as e2:\n",
    "        raise RuntimeError(f\"Failed to load file: {e2}\")\n",
    "\n",
    "# Print a short preview of each loaded Document (page_content)\n",
    "for i, doc in enumerate(loaded_data, 1):\n",
    "    print(f\"--- Document {i} ---\")\n",
    "    content = getattr(doc, \"page_content\", None) or getattr(doc, \"content\", None) or str(doc)\n",
    "    print(content[:1000])\n",
    "    print()\n"
   ]
  },
  {
   "cell_type": "code",
   "execution_count": 54,
   "id": "57087d6b",
   "metadata": {},
   "outputs": [],
   "source": [
    "text_splitter=CharacterTextSplitter(chunk_size=1000,chunk_overlap=0)\n",
    "chunks_of_text=text_splitter.split_documents(loaded_data)"
   ]
  },
  {
   "cell_type": "code",
   "execution_count": 55,
   "id": "69d76cef",
   "metadata": {},
   "outputs": [
    {
     "data": {
      "text/plain": [
       "2"
      ]
     },
     "execution_count": 55,
     "metadata": {},
     "output_type": "execute_result"
    }
   ],
   "source": [
    "len(chunks_of_text)"
   ]
  },
  {
   "cell_type": "code",
   "execution_count": 87,
   "id": "782d7483",
   "metadata": {},
   "outputs": [],
   "source": [
    "\n",
    "embeddings_model=GoogleGenerativeAIEmbeddings(model=\"gemini-embedding-001\")\n",
    "vector_db=FAISS.from_documents(chunks_of_text,embedding=embeddings_model)"
   ]
  },
  {
   "cell_type": "code",
   "execution_count": 66,
   "id": "617a7eb9",
   "metadata": {},
   "outputs": [],
   "source": [
    "retriever=vector_db.as_retriever(kwargs={\"k\":2})"
   ]
  },
  {
   "cell_type": "code",
   "execution_count": 67,
   "id": "1df51c9b",
   "metadata": {},
   "outputs": [
    {
     "name": "stdout",
     "output_type": "stream",
     "text": [
      "[Document(id='95dd9483-9cae-4303-9fad-b2f756a5b7df', metadata={'source': 'C:\\\\Users\\\\91800\\\\Desktop\\\\GENAI UDEMY\\\\txt files\\\\stateofunion.txt'}, page_content='Groups of citizens blocking tanks with their bodies. Everyone from students to retirees teachers turned soldiers defending their homeland.\\n\\nIn this struggle as President Zelenskyy said in his speech to the European Parliament “Light will win over darkness.” The Ukrainian Ambassador to the United States is here tonight.\\n\\nLet each of us if you’re able to stand and send an unmistakable signal to Ukraine and to the world.\\n\\nThank you. Thank you, thank you.\\n\\nShe’s bright, she’s strong, and she’s resolved.\\n\\nWe the People of the United States of America stand with the Ukrainian people.\\n\\nThroughout our history we’ve learned this lesson when dictators do not pay a price for their aggression they cause more chaos.\\n\\nThey keep moving.\\n\\nAnd the costs and the threats to America and the world keep rising.'), Document(id='eaf663ba-64bd-485f-b056-98afe0fa5083', metadata={'source': 'C:\\\\Users\\\\91800\\\\Desktop\\\\GENAI UDEMY\\\\txt files\\\\stateofunion.txt'}, page_content='Madam Speaker, Madam Vice President, our First Lady and Second Gentleman. Members of Congress and the Cabinet. Justices of the Supreme Court. My fellow Americans.\\n\\nLast year COVID-19 kept us apart. This year we are finally together again.\\n\\nTonight, we meet as Democrats Republicans and Independents. But most importantly as Americans.\\n\\nWith a duty to one another to the American people to the Constitution.\\n\\nAnd with an unbending resolve that freedom will always triumph over tyranny.\\n\\nSix days ago, Russia’s Vladimir Putin sought to shake the foundations of the free world thinking he could make it bend to his menacing ways. But he badly miscalculated.\\n\\nHe thought he could roll into Ukraine and the world would roll over. Instead he met a wall of strength he never imagined.\\n\\nHe met the Ukrainian people.\\n\\nFrom President Zelenskyy to every Ukrainian, their fearlessness, their courage, their determination, inspires the world.')]\n"
     ]
    }
   ],
   "source": [
    "response=retriever.invoke(\"What did President Zelenskyy say in his speech to the European Parliament?\")\n",
    "print(response)"
   ]
  },
  {
   "cell_type": "markdown",
   "id": "3bf87c77",
   "metadata": {},
   "source": [
    "# Simple Use with LCEL"
   ]
  },
  {
   "cell_type": "code",
   "execution_count": null,
   "id": "22b84796",
   "metadata": {},
   "outputs": [],
   "source": [
    "from langchain_google_genai import ChatGoogleGenerativeAI\n",
    "from langchain_core.prompts import ChatPromptTemplate\n",
    "from langchain_core.output_parsers import StrOutputParser\n",
    "from langchain_core.runnables import RunnablePassthrough"
   ]
  },
  {
   "cell_type": "code",
   "execution_count": 70,
   "id": "c9a87fd8",
   "metadata": {},
   "outputs": [],
   "source": [
    "template=\"\"\"Answer the question based only on the following context: \n",
    "\n",
    "{context}\n",
    "\n",
    "Question:{question}\n",
    "\"\"\"\n",
    "\n",
    "prompt=ChatPromptTemplate.from_template(template=template)\n",
    "\n",
    "model=ChatGoogleGenerativeAI(model=\"gemini-2.5-flash\")"
   ]
  },
  {
   "cell_type": "code",
   "execution_count": 81,
   "id": "c383762a",
   "metadata": {},
   "outputs": [],
   "source": [
    "def format_docs(docs):\n",
    "    return \"\\n\\n\".join([d.page_content for d in docs])\n",
    "\n",
    "\n",
    "\n",
    "chain=(\n",
    "    {\"context\":retriever | format_docs, \"question\": RunnablePassthrough()}|prompt|model|StrOutputParser()\n",
    ")\n"
   ]
  },
  {
   "cell_type": "code",
   "execution_count": 83,
   "id": "ccb08a92",
   "metadata": {},
   "outputs": [],
   "source": [
    "response=chain.invoke(\"What did President Zelenskyy say in his speech to the European Parliament?\")\n"
   ]
  },
  {
   "cell_type": "code",
   "execution_count": 86,
   "id": "68576f08",
   "metadata": {},
   "outputs": [
    {
     "data": {
      "text/plain": [
       "'In his speech to the European Parliament, President Zelenskyy said: \"Light will win over darkness.\"'"
      ]
     },
     "execution_count": 86,
     "metadata": {},
     "output_type": "execute_result"
    }
   ],
   "source": [
    "response"
   ]
  }
 ],
 "metadata": {
  "kernelspec": {
   "display_name": "venv",
   "language": "python",
   "name": "python3"
  },
  "language_info": {
   "codemirror_mode": {
    "name": "ipython",
    "version": 3
   },
   "file_extension": ".py",
   "mimetype": "text/x-python",
   "name": "python",
   "nbconvert_exporter": "python",
   "pygments_lexer": "ipython3",
   "version": "3.9.13"
  }
 },
 "nbformat": 4,
 "nbformat_minor": 5
}

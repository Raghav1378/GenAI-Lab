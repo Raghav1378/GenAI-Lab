{
 "cells": [
  {
   "cell_type": "code",
   "execution_count": 1,
   "id": "8d5fd859",
   "metadata": {},
   "outputs": [
    {
     "name": "stderr",
     "output_type": "stream",
     "text": [
      "c:\\Users\\91800\\Desktop\\GENAI UDEMY\\venv\\lib\\site-packages\\tqdm\\auto.py:21: TqdmWarning: IProgress not found. Please update jupyter and ipywidgets. See https://ipywidgets.readthedocs.io/en/stable/user_install.html\n",
      "  from .autonotebook import tqdm as notebook_tqdm\n"
     ]
    }
   ],
   "source": [
    "from langchain_google_genai import ChatGoogleGenerativeAI\n",
    "from dotenv import load_dotenv\n",
    "load_dotenv()\n",
    "import os\n"
   ]
  },
  {
   "cell_type": "code",
   "execution_count": 2,
   "id": "54c71f90",
   "metadata": {},
   "outputs": [],
   "source": [
    "import os\n",
    "from openai import OpenAI\n",
    "\n",
    "# 1️⃣ Define your \"chatmodel2\" class wrapper\n",
    "class ChatModel2:\n",
    "    def __init__(self, model_name, api_key=None, base_url=None):\n",
    "        self.client = OpenAI(\n",
    "            base_url=base_url or \"https://router.huggingface.co/v1\",\n",
    "            api_key=api_key or os.environ.get(\"HUGGINGFACE_API_KEY\"),\n",
    "        )\n",
    "        self.model_name = model_name\n",
    "\n",
    "    def invoke(self, inputs: dict):\n",
    "        \"\"\"\n",
    "        inputs: dict containing {\"prompt\": \"your text here\"} or similar key\n",
    "        \"\"\"\n",
    "        prompt_text = inputs.get(\"prompt\")\n",
    "        if not prompt_text:\n",
    "            raise ValueError(\"Input dict must contain key 'prompt'\")\n",
    "        \n",
    "        completion = self.client.chat.completions.create(\n",
    "            model=self.model_name,\n",
    "            messages=[{\"role\": \"user\", \"content\": prompt_text}],\n",
    "        )\n",
    "        return completion.choices[0].message.content\n"
   ]
  },
  {
   "cell_type": "code",
   "execution_count": 3,
   "id": "71880291",
   "metadata": {},
   "outputs": [],
   "source": [
    "chatmodel=ChatGoogleGenerativeAI(model=\"gemini-2.5-flash\")"
   ]
  },
  {
   "cell_type": "code",
   "execution_count": 4,
   "id": "4902d4d5",
   "metadata": {},
   "outputs": [],
   "source": [
    "chatmodel2 = ChatModel2(model_name=\"openai/gpt-oss-20b:groq\")\n"
   ]
  },
  {
   "cell_type": "code",
   "execution_count": 7,
   "id": "e7789192",
   "metadata": {},
   "outputs": [
    {
     "data": {
      "text/plain": [
       "'Beyond his well-known political career, Narendra Modi has a lesser-known creative side: he is an accomplished author and poet.\\n\\nHe has penned several books in Gujarati, including collections of poetry, essays, and short stories. His writings often explore themes of spirituality, social issues, and personal reflections. Some of his notable works include \"Sakshibhav\" (a collection of letters to the Mother Goddess) and \"Setubandh.\" This creative pursuit offers a different glimpse into his personality, contrasting with his public image as a politician and administrator.'"
      ]
     },
     "execution_count": 7,
     "metadata": {},
     "output_type": "execute_result"
    }
   ],
   "source": [
    "from langchain_core.output_parsers import StrOutputParser\n",
    "from langchain_core.prompts import ChatPromptTemplate\n",
    "\n",
    "prompt=ChatPromptTemplate.from_template(\"tell me a curious fact about {politician}\")\n",
    "\n",
    "chain=prompt | chatmodel | StrOutputParser()\n",
    "\n",
    "chain.invoke({\"politician\":\"NarendarModi\"})"
   ]
  },
  {
   "cell_type": "markdown",
   "id": "edb9a0ad",
   "metadata": {},
   "source": [
    "# Legcay Langchain"
   ]
  },
  {
   "cell_type": "code",
   "execution_count": null,
   "id": "46c4c2d6",
   "metadata": {},
   "outputs": [
    {
     "name": "stderr",
     "output_type": "stream",
     "text": [
      "C:\\Users\\91800\\AppData\\Local\\Temp\\ipykernel_18672\\1988853176.py:6: LangChainDeprecationWarning: The class `LLMChain` was deprecated in LangChain 0.1.17 and will be removed in 1.0. Use :meth:`~RunnableSequence, e.g., `prompt | llm`` instead.\n",
      "  traditioal_chain=LLMChain(llm=chatmodel,prompt=prompt)\n"
     ]
    },
    {
     "data": {
      "text/plain": [
       "'Here\\'s a curious fact about Lionel Messi:\\n\\nHis very first \"contract\" with FC Barcelona was famously signed on a **paper napkin**.\\n\\nHe was only 13 years old at the time, and Barcelona\\'s sporting director, Carles Rexach, was so eager to secure his talent after seeing him play for the first time, that he didn\\'t want to wait. With no official forms immediately available, Rexach scribbled the terms on a napkin at a local restaurant, making a commitment to sign Messi if his family moved to Barcelona and if the club would pay for his growth hormone treatment.\\n\\nThat napkin is now a treasured historical artifact, representing the informal beginning of one of football\\'s greatest careers.'"
      ]
     },
     "execution_count": 8,
     "metadata": {},
     "output_type": "execute_result"
    }
   ],
   "source": [
    "from langchain.chains import LLMChain\n",
    "import warnings\n",
    "\n",
    "prompt=ChatPromptTemplate.from_template(\"tell me a curious fact about {soccer_player}\")\n",
    "\n",
    "traditioal_chain=LLMChain(llm=chatmodel,prompt=prompt)\n",
    "\n",
    "traditioal_chain.predict(soccer_player=\"Messi\")"
   ]
  },
  {
   "cell_type": "code",
   "execution_count": 12,
   "id": "ae4fc19d",
   "metadata": {},
   "outputs": [],
   "source": [
    "import os\n",
    "from openai import OpenAI\n",
    "from langchain_core.runnables import Runnable\n",
    "\n",
    "class ChatModel2(Runnable):\n",
    "    def __init__(self, model_name, api_key=None, base_url=None):\n",
    "        super().__init__()\n",
    "        self.client = OpenAI(\n",
    "            base_url=base_url or \"https://router.huggingface.co/v1\",\n",
    "            api_key=api_key or os.environ.get(\"HUGGINGFACE_API_KEY\"),\n",
    "        )\n",
    "        self.model_name = model_name\n",
    "\n",
    "    def invoke(self, inputs, config=None, **kwargs):\n",
    "        \"\"\"\n",
    "        Compatible with LangChain's Runnable interface.\n",
    "        You can pass either:\n",
    "        - a dict: {\"prompt\": \"Hello there!\"}\n",
    "        - or a string directly.\n",
    "        \"\"\"\n",
    "        # Handle both dict and string inputs\n",
    "        if isinstance(inputs, dict):\n",
    "            prompt_text = inputs.get(\"prompt\")\n",
    "        else:\n",
    "            prompt_text = str(inputs)\n",
    "\n",
    "        if not prompt_text:\n",
    "            raise ValueError(\"No prompt text provided to ChatModel2.\")\n",
    "\n",
    "        completion = self.client.chat.completions.create(\n",
    "            model=self.model_name,\n",
    "            messages=[{\"role\": \"user\", \"content\": prompt_text}],\n",
    "        )\n",
    "        return completion.choices[0].message.content\n"
   ]
  },
  {
   "cell_type": "code",
   "execution_count": null,
   "id": "446c6761",
   "metadata": {},
   "outputs": [
    {
     "name": "stdout",
     "output_type": "stream",
     "text": [
      "Did you know that Narendra Modi, before entering politics, once worked as a tea seller on the Mumbai–Pune railway route? In the early 1990s, he would ride the train and serve tea to passengers, a humble job that he reportedly considered a “learning experience” before he became involved with the Rashtriya Swayamsevak Sangh and later the Bharatiya Janata Party. It’s an interesting anecdote that illustrates how his early life was grounded in ordinary, everyday work before he rose to national leadership.\n"
     ]
    }
   ],
   "source": [
    "from langchain_core.prompts import ChatPromptTemplate\n",
    "from langchain_core.output_parsers import StrOutputParser\n",
    "\n",
    "# Initialize\n",
    "chatmodel2 = ChatModel2(\"openai/gpt-oss-20b:groq\")\n",
    "\n",
    "# Create pipeline (prompt → model → output parser)\n",
    "prompt = ChatPromptTemplate.from_template(\"Tell me a fun fact about {topic}\")\n",
    "chain = prompt | chatmodel2 | StrOutputParser()\n",
    "\n",
    "# Run\n",
    "result = chain.invoke({\"topic\": \"Narendra Modip\"})\n",
    "print(result)\n"
   ]
  },
  {
   "cell_type": "code",
   "execution_count": 24,
   "id": "83d56a54",
   "metadata": {},
   "outputs": [
    {
     "data": {
      "text/plain": [
       "'Itachi’s most hearwrenching truth is that he was forced to slaughter almost his entire Uchiha clan—leaving only his younger brother Sasuke alive—under orders from the village’s leadership, a choice he made to protect the village but at the cost of his own humanity and the life of his beloved brother, who ultimately had to confront and kill him years later.'"
      ]
     },
     "execution_count": 24,
     "metadata": {},
     "output_type": "execute_result"
    }
   ],
   "source": [
    "prompt=ChatPromptTemplate.from_template(\"Tell me a hearwrenching fact about {topic}\")\n",
    "\n",
    "outputparser=StrOutputParser()\n",
    "\n",
    "chain=prompt | chatmodel2 | outputparser\n",
    "\n",
    "chain.invoke({\"topic\":\"Itachi Uchiha\"})"
   ]
  },
  {
   "cell_type": "code",
   "execution_count": 23,
   "id": "26fc8bc8",
   "metadata": {},
   "outputs": [
    {
     "data": {
      "text/plain": [
       "'The most heartbreaking fact about Itachi Uchiha is that he was forced to slaughter his entire clan, including his own parents, and then live for years as a rogue, a traitor, and a villain – enduring the hatred of the one person he loved most, his little brother Sasuke – all to prevent a civil war and protect Sasuke and the Leaf Village.\\n\\nHe carried this immense burden and secret alone, never seeking praise or understanding, and ultimately orchestrated his own death at Sasuke\\'s hands, ensuring his brother would become a hero by avenging his family, even if it meant being forever branded a monster. He died with a smile, telling Sasuke, \"I will always love you,\" knowing he had fulfilled his grim mission to protect his brother\\'s future.'"
      ]
     },
     "execution_count": 23,
     "metadata": {},
     "output_type": "execute_result"
    }
   ],
   "source": [
    "chain2=prompt | chatmodel | outputparser\n",
    "chain2.invoke({\"topic\":\"Itachi Uchiha\"})"
   ]
  },
  {
   "cell_type": "code",
   "execution_count": null,
   "id": "2d51b83c",
   "metadata": {},
   "outputs": [],
   "source": []
  }
 ],
 "metadata": {
  "kernelspec": {
   "display_name": "venv",
   "language": "python",
   "name": "python3"
  },
  "language_info": {
   "codemirror_mode": {
    "name": "ipython",
    "version": 3
   },
   "file_extension": ".py",
   "mimetype": "text/x-python",
   "name": "python",
   "nbconvert_exporter": "python",
   "pygments_lexer": "ipython3",
   "version": "3.9.13"
  }
 },
 "nbformat": 4,
 "nbformat_minor": 5
}
